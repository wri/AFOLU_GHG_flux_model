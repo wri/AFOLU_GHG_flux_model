{
 "cells": [
  {
   "cell_type": "code",
   "execution_count": 1,
   "id": "8372a452-2310-497e-8357-f40600bc2ed4",
   "metadata": {},
   "outputs": [],
   "source": [
    "import geopandas as gpd\n",
    "import os\n",
    "import logging\n",
    "import subprocess\n",
    "import shapely.geometry\n",
    "from datetime import datetime\n",
    "import pandas as pd\n",
    "import boto3\n",
    "from botocore.exceptions import ClientError\n",
    "import tempfile\n",
    "import dask\n",
    "from dask.diagnostics import ProgressBar"
   ]
  },
  {
   "cell_type": "code",
   "execution_count": 2,
   "id": "21491460-4237-484c-9f97-776ede16d490",
   "metadata": {},
   "outputs": [],
   "source": [
    "# Setup logging\n",
    "logging.basicConfig(level=logging.INFO, format='%(asctime)s - %(levelname)s - %(message)s')\n",
    "# logging.getLogger().setLevel(logging.DEBUG)"
   ]
  },
  {
   "cell_type": "code",
   "execution_count": 3,
   "id": "2b86ea3a-43c2-4016-9662-6a775cbc0cfe",
   "metadata": {},
   "outputs": [],
   "source": [
    "# S3 Paths\n",
    "s3_bucket = \"gfw2-data\"\n",
    "s3_input_dir = \"climate/AFOLU_flux_model/organic_soils/inputs/raw\"\n",
    "s3_osm_dir = \"roads/osm_roads/OSM_Roads/OSM_Roads\"\n",
    "s3_osm_roads_dir = \"climate/AFOLU_flux_model/organic_soils/inputs/processed/grip/roads_by_tile\"\n",
    "s3_osm_canals_dir = \"climate/AFOLU_flux_model/organic_soils/inputs/processed/grip/canals_by_tile\""
   ]
  },
  {
   "cell_type": "code",
   "execution_count": 4,
   "id": "89b1a304-d400-4379-8604-7d5175e8f3c9",
   "metadata": {},
   "outputs": [],
   "source": [
    "# Paths\n",
    "regional_pbf_files = [\n",
    "    f\"s3://{s3_bucket}/{s3_input_dir}/{s3_osm_dir}/north-america-latest.osm.pbf\",\n",
    "    f\"s3://{s3_bucket}/{s3_input_dir}/{s3_osm_dir}/africa-latest.osm.pbf\",\n",
    "    f\"s3://{s3_bucket}/{s3_input_dir}/{s3_osm_dir}/antarctica-latest.osm.pbf\",\n",
    "    f\"s3://{s3_bucket}/{s3_input_dir}/{s3_osm_dir}/asia-latest.osm.pbf\",\n",
    "    f\"s3://{s3_bucket}/{s3_input_dir}/{s3_osm_dir}/australia-oceania-latest.osm.pbf\",\n",
    "    f\"s3://{s3_bucket}/{s3_input_dir}/{s3_osm_dir}/central-america-latest.osm.pbf\",\n",
    "    f\"s3://{s3_bucket}/{s3_input_dir}/{s3_osm_dir}/europe-latest.osm.pbf\"\n",
    "]"
   ]
  },
  {
   "cell_type": "code",
   "execution_count": 5,
   "id": "bc78918e-a491-4528-bfe9-478143d5bc45",
   "metadata": {},
   "outputs": [],
   "source": [
    "# Hardcoded bounds dictionary\n",
    "bounds_dict = {\n",
    "    f\"s3://{s3_bucket}/{s3_input_dir}/{s3_osm_dir}/north-america-latest.osm.pbf\": (-180.0, 5.57228, 180.0, 85.04177),\n",
    "    f\"s3://{s3_bucket}/{s3_input_dir}/{s3_osm_dir}/africa-latest.osm.pbf\": (-27.262032, -60.3167, 66.722766, 37.77817),\n",
    "    f\"s3://{s3_bucket}/{s3_input_dir}/{s3_osm_dir}/antarctica-latest.osm.pbf\": (-180.0, -90.0, 180.0, -60.0),\n",
    "    f\"s3://{s3_bucket}/{s3_input_dir}/{s3_osm_dir}/asia-latest.osm.pbf\": (-180.0, -13.01165, 180.0, 84.52666),\n",
    "    f\"s3://{s3_bucket}/{s3_input_dir}/{s3_osm_dir}/australia-oceania-latest.osm.pbf\": (-179.999999, -57.16482, 180.0, 26.27781),\n",
    "    f\"s3://{s3_bucket}/{s3_input_dir}/{s3_osm_dir}/central-america-latest.osm.pbf\": (-99.82733, 3.283755, -44.93667, 28.05483),\n",
    "    f\"s3://{s3_bucket}/{s3_input_dir}/{s3_osm_dir}/europe-latest.osm.pbf\": (-34.49296, 29.635548, 46.75348, 81.47299)\n",
    "}\n"
   ]
  },
  {
   "cell_type": "code",
   "execution_count": 6,
   "id": "61fd818f-d32c-4a0a-9f65-e3772c1812e5",
   "metadata": {},
   "outputs": [],
   "source": [
    "tiles_shapefile_path = f\"s3://{s3_bucket}/{s3_input_dir}/index/Global_Peatlands.shp\"\n",
    "temp_output_dir = \"/tmp/osm_temp\"\n",
    "os.makedirs(temp_output_dir, exist_ok=True)"
   ]
  },
  {
   "cell_type": "code",
   "execution_count": 7,
   "id": "739eb7b8-d110-40c2-bbab-b2443c96e759",
   "metadata": {},
   "outputs": [],
   "source": [
    "def download_s3_file(bucket, key, local_dir):\n",
    "    s3_client = boto3.client('s3')\n",
    "    local_path = os.path.join(local_dir, os.path.basename(key))\n",
    "    try:\n",
    "        s3_client.download_file(bucket, key, local_path)\n",
    "        return local_path\n",
    "    except ClientError as e:\n",
    "        logging.error(f\"Failed to download file from S3: {bucket}/{key}, {e}\")\n",
    "        return None"
   ]
  },
  {
   "cell_type": "code",
   "execution_count": 8,
   "id": "c27d4a99-5200-428d-95c3-9210016b4b1d",
   "metadata": {},
   "outputs": [],
   "source": [
    "def read_tiles_shapefile():\n",
    "    logging.info(\"Reading tiles shapefile from S3\")\n",
    "    tiles_gdf = gpd.read_file(tiles_shapefile_path, storage_options={\"anon\": False})\n",
    "    logging.info(f\"Columns in tiles shapefile: {tiles_gdf.columns}\")\n",
    "    return tiles_gdf\n"
   ]
  },
  {
   "cell_type": "code",
   "execution_count": 9,
   "id": "90d59345-adbe-4c3d-b2bf-61f4228a3622",
   "metadata": {},
   "outputs": [],
   "source": [
    "def run_osmium_extract(pbf_file, tile_bounds, tile_id):\n",
    "    temp_pbf = os.path.join(temp_output_dir, f'temp_{tile_id}_{datetime.now().strftime(\"%Y%m%d%H%M%S%f\")}.osm.pbf')\n",
    "    cmd = [\n",
    "        'osmium', 'extract', '-b', f'{tile_bounds[0]},{tile_bounds[1]},{tile_bounds[2]},{tile_bounds[3]}',\n",
    "        '-o', temp_pbf, pbf_file\n",
    "    ]\n",
    "    try:\n",
    "        subprocess.check_call(cmd)\n",
    "        return temp_pbf\n",
    "    except subprocess.CalledProcessError as e:\n",
    "        logging.error(f\"Error running osmium extract: {e}\")\n",
    "        if os.path.exists(temp_pbf):\n",
    "            os.remove(temp_pbf)\n",
    "        return None"
   ]
  },
  {
   "cell_type": "code",
   "execution_count": 10,
   "id": "00c9b352-29c6-4c67-adc5-ea12a577461a",
   "metadata": {},
   "outputs": [],
   "source": [
    "def run_ogr2ogr_local(pbf_file, tile_bounds, tile_id):\n",
    "    temp_geojson = os.path.join(temp_output_dir, f'temp_{tile_id}_{datetime.now().strftime(\"%Y%m%d%H%M%S%f\")}.geojson')\n",
    "    cmd = [\n",
    "        'ogr2ogr', '-f', 'GeoJSON', temp_geojson, pbf_file,\n",
    "        '-spat', str(tile_bounds[0]), str(tile_bounds[1]), str(tile_bounds[2]), str(tile_bounds[3]), 'lines'\n",
    "    ]\n",
    "    try:\n",
    "        subprocess.check_call(cmd)\n",
    "        gdf = gpd.read_file(temp_geojson)\n",
    "        os.remove(temp_geojson)\n",
    "        return gdf\n",
    "    except subprocess.CalledProcessError as e:\n",
    "        logging.error(f\"Error running ogr2ogr: {e}\")\n",
    "        if os.path.exists(temp_geojson):\n",
    "            os.remove(temp_geojson)\n",
    "        return gpd.GeoDataFrame()\n",
    "    except Exception as e:\n",
    "        logging.error(f\"Error reading GeoJSON file: {e}\")\n",
    "        if os.path.exists(temp_geojson):\n",
    "            os.remove(temp_geojson)\n",
    "        return gpd.GeoDataFrame()\n"
   ]
  },
  {
   "cell_type": "code",
   "execution_count": 11,
   "id": "c83e4e2c-e028-4180-8db7-39b8c0e8564c",
   "metadata": {},
   "outputs": [],
   "source": [
    "def upload_to_s3(df, s3_path):\n",
    "    temp_file = os.path.join(temp_output_dir, f'{datetime.now().strftime(\"%Y%m%d%H%M%S%f\")}.shp')\n",
    "    df.to_file(temp_file)\n",
    "    s3_client = boto3.client('s3')\n",
    "    s3_key = s3_path.replace(f\"s3://{s3_bucket}/\", \"\")\n",
    "    s3_client.upload_file(temp_file, s3_bucket, s3_key)\n",
    "    os.remove(temp_file)"
   ]
  },
  {
   "cell_type": "code",
   "execution_count": 12,
   "id": "92a9e5d7-1b35-467b-8adc-240260749157",
   "metadata": {},
   "outputs": [],
   "source": [
    "def s3_key_exists(bucket, key):\n",
    "    s3_client = boto3.client('s3')\n",
    "    try:\n",
    "        s3_client.head_object(Bucket=bucket, Key=key)\n",
    "        return True\n",
    "    except ClientError as e:\n",
    "        if e.response['Error']['Code'] == '404':\n",
    "            return False\n",
    "        else:\n",
    "            raise"
   ]
  },
  {
   "cell_type": "code",
   "execution_count": 13,
   "id": "3ca9db5b-f580-4aec-99ce-f2d287a001b9",
   "metadata": {},
   "outputs": [],
   "source": [
    "def extract_features(gdf, tile_geometry):\n",
    "    roads = gdf[gdf['highway'].notnull()]\n",
    "    canals = gdf[(gdf['waterway'].notnull()) & (gdf['waterway'].isin(['ditch', 'canal', 'drain']))]\n",
    "    roads_in_tile = gpd.clip(roads, tile_geometry)\n",
    "    canals_in_tile = gpd.clip(canals, tile_geometry)\n",
    "    return roads_in_tile, canals_in_tile"
   ]
  },
  {
   "cell_type": "code",
   "execution_count": 14,
   "id": "d008b922-b805-44ce-94ba-4e85e2bcb5a4",
   "metadata": {},
   "outputs": [],
   "source": [
    "def save_shapefile(gdf, output_path, output_dir):\n",
    "    if not gdf.empty:\n",
    "        temp_file = os.path.join(temp_output_dir, f'{datetime.now().strftime(\"%Y%m%d%H%M%S%f\")}.shp')\n",
    "        gdf.to_file(temp_file)\n",
    "        s3_key = f\"{output_dir}/{output_path}\"\n",
    "        print(f\"Uploading to S3 path: s3://{s3_bucket}/{s3_key}\")\n",
    "        upload_to_s3(gdf, f\"s3://{s3_bucket}/{s3_key}\")\n",
    "        os.remove(temp_file)"
   ]
  },
  {
   "cell_type": "code",
   "execution_count": 15,
   "id": "8c30ac9b-781b-4e73-b9e6-1c72869496f5",
   "metadata": {},
   "outputs": [],
   "source": [
    "def process_tile(tile, pbf_files, bounds_dict):\n",
    "    tile_id = tile['tile_id']\n",
    "    roads_output_path = f\"roads_{tile_id}.shp\"\n",
    "    canals_output_path = f\"canals_{tile_id}.shp\"\n",
    "\n",
    "    if s3_key_exists(s3_bucket, f\"{s3_osm_roads_dir}/{roads_output_path}\") and s3_key_exists(s3_bucket, f\"{s3_osm_canals_dir}/{canals_output_path}\"):\n",
    "        logging.info(f\"Output files for {tile_id} already exist. Skipping tile {tile_id}.\")\n",
    "        return\n",
    "\n",
    "    tile_bounds = tile.geometry.bounds\n",
    "    logging.info(f\"Processing tile {tile_id} with bounds {tile_bounds}\")\n",
    "\n",
    "    combined_roads = gpd.GeoDataFrame()\n",
    "    combined_canals = gpd.GeoDataFrame()\n",
    "\n",
    "    try:\n",
    "        with tempfile.TemporaryDirectory() as tmpdir:\n",
    "            for pbf_file in pbf_files:\n",
    "                if tile.geometry.intersects(shapely.geometry.box(*bounds_dict[pbf_file])):\n",
    "                    logging.info(f\"Extracting relevant part of PBF file {pbf_file} for tile {tile_id}\")\n",
    "                    s3_key = pbf_file.replace(f\"s3://{s3_bucket}/\", \"\")\n",
    "                    local_pbf_file = download_s3_file(s3_bucket, s3_key, tmpdir)\n",
    "                    extracted_pbf = run_osmium_extract(local_pbf_file, tile_bounds, tile_id)\n",
    "\n",
    "                    if extracted_pbf:\n",
    "                        gdf = run_ogr2ogr_local(extracted_pbf, tile_bounds, tile_id)\n",
    "                        if not gdf.empty:\n",
    "                            roads, canals = extract_features(gdf, tile.geometry)\n",
    "                            combined_roads = pd.concat([combined_roads, roads], ignore_index=True)\n",
    "                            combined_canals = pd.concat([combined_canals, canals], ignore_index=True)\n",
    "                        os.remove(extracted_pbf)\n",
    "\n",
    "            if not combined_roads.empty:\n",
    "                save_shapefile(combined_roads, roads_output_path, s3_osm_roads_dir)\n",
    "            if not combined_canals.empty:\n",
    "                save_shapefile(combined_canals, canals_output_path, s3_osm_canals_dir)\n",
    "    except Exception as e:\n",
    "        logging.error(f\"Error processing tile {tile_id}: {e}\")\n"
   ]
  },
  {
   "cell_type": "code",
   "execution_count": 16,
   "id": "e1cbf800-3191-431d-a1ae-cf4beaaf8313",
   "metadata": {},
   "outputs": [],
   "source": [
    "def process_tiles_parallel(tiles_gdf, pbf_files, bounds_dict):\n",
    "    delayed_tasks = []\n",
    "    for index, tile in tiles_gdf.iterrows():\n",
    "        task = dask.delayed(process_tile)(tile, pbf_files, bounds_dict)\n",
    "        delayed_tasks.append(task)\n",
    "    \n",
    "    with ProgressBar():\n",
    "        dask.compute(*delayed_tasks)"
   ]
  },
  {
   "cell_type": "code",
   "execution_count": 17,
   "id": "bfba1c86-8acb-459b-9ec0-1a9364ce4773",
   "metadata": {},
   "outputs": [],
   "source": [
    "def main(tile_id=None):\n",
    "    logging.info(\"Reading tiles shapefile from S3\")\n",
    "    tiles_gdf = read_tiles_shapefile()\n",
    "\n",
    "    if tile_id:\n",
    "        tile = tiles_gdf[tiles_gdf['tile_id'] == tile_id].iloc[0]\n",
    "        process_tile(tile, regional_pbf_files, bounds_dict)\n",
    "    else:\n",
    "        process_tiles_parallel(tiles_gdf, regional_pbf_files, bounds_dict)"
   ]
  },
  {
   "cell_type": "code",
   "execution_count": 18,
   "id": "593d372f-4fc2-47e9-a0a6-9ac80b7c4252",
   "metadata": {},
   "outputs": [],
   "source": [
    "# Run the main function\n",
    "# main(tile_id=None)"
   ]
  },
  {
   "cell_type": "code",
   "execution_count": null,
   "id": "01ac9e2f-e431-40ed-8725-21aed83f2f40",
   "metadata": {
    "scrolled": true
   },
   "outputs": [
    {
     "name": "stderr",
     "output_type": "stream",
     "text": [
      "2024-05-21 16:17:25,522 - INFO - Reading tiles shapefile from S3\n",
      "2024-05-21 16:17:25,523 - INFO - Reading tiles shapefile from S3\n",
      "2024-05-21 16:17:27,727 - INFO - Columns in tiles shapefile: Index(['tile_id', 'download_u', 'ObjectId', 'Shape__Are', 'Shape__Len',\n",
      "       'geometry'],\n",
      "      dtype='object')\n",
      "2024-05-21 16:17:27,791 - INFO - Found credentials in shared credentials file: ~/.aws/credentials\n",
      "2024-05-21 16:17:29,120 - INFO - Processing tile 00N_110E with bounds (110.0, -10.0, 120.0, 0.0)\n",
      "2024-05-21 16:17:29,187 - INFO - Extracting relevant part of PBF file s3://gfw2-data/climate/AFOLU_flux_model/organic_soils/inputs/raw/roads/osm_roads/OSM_Roads/OSM_Roads/asia-latest.osm.pbf for tile 00N_110E\n"
     ]
    }
   ],
   "source": [
    "# Run the main function (test tile)\n",
    "main(tile_id=\"00N_110E\")"
   ]
  },
  {
   "cell_type": "code",
   "execution_count": null,
   "id": "e84bac72-c946-4523-bd2f-2d83ab1250ac",
   "metadata": {},
   "outputs": [],
   "source": []
  }
 ],
 "metadata": {
  "kernelspec": {
   "display_name": "Python 3 (ipykernel)",
   "language": "python",
   "name": "python3"
  },
  "language_info": {
   "codemirror_mode": {
    "name": "ipython",
    "version": 3
   },
   "file_extension": ".py",
   "mimetype": "text/x-python",
   "name": "python",
   "nbconvert_exporter": "python",
   "pygments_lexer": "ipython3",
   "version": "3.10.6"
  }
 },
 "nbformat": 4,
 "nbformat_minor": 5
}
