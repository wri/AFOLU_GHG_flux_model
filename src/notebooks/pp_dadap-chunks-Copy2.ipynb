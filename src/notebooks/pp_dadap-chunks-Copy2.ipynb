{
 "cells": [
  {
   "cell_type": "code",
   "execution_count": 49,
   "id": "05f608ed-2e37-4193-be82-b304a8fccd8b",
   "metadata": {},
   "outputs": [
    {
     "data": {
      "text/plain": [
       "\"\\nthis one is working, but saved rasters not showing up in S3. I am going to make a copy and test David's save function\\n\""
      ]
     },
     "execution_count": 49,
     "metadata": {},
     "output_type": "execute_result"
    }
   ],
   "source": [
    "\"\"\"\n",
    "Load dadap density data, resample to correct grid, and reclassify to binary\n",
    "\"\"\"\n",
    "\n",
    "\n",
    "\"\"\"\n",
    "this one is working, but saved rasters not showing up in S3. I am going to make a copy and test David's save function\n",
    "\"\"\""
   ]
  },
  {
   "cell_type": "code",
   "execution_count": 50,
   "id": "813967a9-0f3b-4b87-9735-cc6d90ef6d22",
   "metadata": {},
   "outputs": [],
   "source": [
    "import rioxarray\n",
    "import rasterio\n",
    "import xarray as xr\n",
    "import pandas as pd\n",
    "import os\n",
    "import dask\n",
    "import boto3\n",
    "from dask.distributed import Client\n",
    "import dask.array as da\n"
   ]
  },
  {
   "cell_type": "code",
   "execution_count": 51,
   "id": "d514a534-2536-4e7c-8361-6c19ae2ac741",
   "metadata": {},
   "outputs": [
    {
     "name": "stdout",
     "output_type": "stream",
     "text": [
      "Current working directory: /mnt/c/gis/git/AFOLU_GHG_flux_model/src/notebooks\n",
      "Files in the current directory: ['.ipynb_checkpoints', 'cluster_management.ipynb', 'combine_rasters_to_10x10.ipynb', 'create_IPCC_class_and_change_rasters.ipynb', 'drainage_model.ipynb', 'LULUCF_model.ipynb', 'pp_dadap-chunks-Copy1.ipynb', 'pp_dadap-chunks-Copy2.ipynb', 'pp_dadap.ipynb', 'utilities_and_variables.ipynb']\n"
     ]
    }
   ],
   "source": [
    "# Print the current working directory\n",
    "print(\"Current working directory:\", os.getcwd())\n",
    "print(\"Files in the current directory:\", os.listdir())\n"
   ]
  },
  {
   "cell_type": "code",
   "execution_count": 52,
   "id": "d8f6faf8-1247-440b-9176-2ac564525480",
   "metadata": {},
   "outputs": [],
   "source": [
    "tiles_test = [\"00N_110E.tif\"]\n",
    "tiles_full = [\"00N_000E.tif\", \"00N_010E.tif\", \"00N_020E.tif\", \"00N_030E.tif\", \"00N_040E.tif\", \"00N_040W.tif\", \"00N_050W.tif\", \"00N_060W.tif\", \"00N_070W.tif\", \"00N_080W.tif\", \"00N_090E.tif\", \"00N_090W.tif\", \"00N_100E.tif\", \"00N_110E.tif\", \"00N_120E.tif\", \"00N_130E.tif\", \"00N_140E.tif\", \"00N_150E.tif\", \"00N_160E.tif\", \"10N_000E.tif\", \"10N_010E.tif\", \"10N_010W.tif\", \"10N_020E.tif\", \"10N_020W.tif\", \"10N_030E.tif\", \"10N_040E.tif\", \"10N_050E.tif\", \"10N_050W.tif\", \"10N_060W.tif\", \"10N_070E.tif\", \"10N_070W.tif\", \"10N_080E.tif\", \"10N_080W.tif\", \"10N_090E.tif\", \"10N_090W.tif\", \"10N_100E.tif\", \"10N_110E.tif\", \"10N_120E.tif\", \"10N_130E.tif\", \"10N_140E.tif\", \"10S_010E.tif\", \"10S_020E.tif\", \"10S_030E.tif\", \"10S_040E.tif\", \"10S_040W.tif\", \"10S_050E.tif\", \"10S_050W.tif\", \"10S_060W.tif\", \"10S_070W.tif\", \"10S_080W.tif\", \"10S_100E.tif\", \"10S_110E.tif\", \"10S_120E.tif\", \"10S_130E.tif\", \"10S_140E.tif\", \"10S_150E.tif\", \"10S_160E.tif\", \"10S_170E.tif\", \"20N_000E.tif\", \"20N_010E.tif\", \"20N_010W.tif\", \"20N_020E.tif\", \"20N_020W.tif\", \"20N_030E.tif\", \"20N_040E.tif\", \"20N_050E.tif\", \"20N_060W.tif\", \"20N_070E.tif\", \"20N_070W.tif\", \"20N_080E.tif\", \"20N_080W.tif\", \"20N_090E.tif\", \"20N_090W.tif\", \"20N_100E.tif\", \"20N_100W.tif\", \"20N_110E.tif\", \"20N_110W.tif\", \"20N_120E.tif\", \"20N_120W.tif\", \"20S_010E.tif\", \"20S_020E.tif\", \"20S_030E.tif\", \"20S_040E.tif\", \"20S_050W.tif\", \"20S_060W.tif\", \"20S_070W.tif\", \"20S_080W.tif\", \"20S_110E.tif\", \"20S_120E.tif\", \"20S_130E.tif\", \"20S_140E.tif\", \"20S_150E.tif\", \"20S_160E.tif\", \"30N_010W.tif\", \"30N_020W.tif\", \"30N_030E.tif\", \"30N_040E.tif\", \"30N_050E.tif\", \"30N_060E.tif\", \"30N_070E.tif\", \"30N_080E.tif\", \"30N_080W.tif\", \"30N_090E.tif\", \"30N_090W.tif\", \"30N_100E.tif\", \"30N_100W.tif\", \"30N_110E.tif\", \"30N_110W.tif\", \"30N_120E.tif\", \"30N_120W.tif\", \"30S_010E.tif\", \"30S_020E.tif\", \"30S_030E.tif\", \"30S_060W.tif\", \"30S_070W.tif\", \"30S_080W.tif\", \"30S_090W.tif\", \"30S_110E.tif\", \"30S_120E.tif\", \"30S_130E.tif\", \"30S_140E.tif\", \"30S_150E.tif\", \"30S_170E.tif\", \"40N_000E.tif\", \"40N_010E.tif\", \"40N_010W.tif\", \"40N_020E.tif\", \"40N_030E.tif\", \"40N_040E.tif\", \"40N_050E.tif\", \"40N_060E.tif\", \"40N_070E.tif\", \"40N_070W.tif\", \"40N_080E.tif\", \"40N_080W.tif\", \"40N_090E.tif\", \"40N_090W.tif\", \"40N_100E.tif\", \"40N_100W.tif\", \"40N_110E.tif\", \"40N_110W.tif\", \"40N_120E.tif\", \"40N_120W.tif\", \"40N_130E.tif\", \"40N_130W.tif\", \"40N_140E.tif\", \"40S_070W.tif\", \"40S_080W.tif\", \"40S_140E.tif\", \"40S_160E.tif\", \"40S_170E.tif\", \"50N_000E.tif\", \"50N_010E.tif\", \"50N_010W.tif\", \"50N_020E.tif\", \"50N_030E.tif\", \"50N_040E.tif\", \"50N_050E.tif\", \"50N_060W.tif\", \"50N_070E.tif\", \"50N_070W.tif\", \"50N_080E.tif\", \"50N_080W.tif\", \"50N_090E.tif\", \"50N_090W.tif\", \"50N_100E.tif\", \"50N_100W.tif\", \"50N_110E.tif\", \"50N_110W.tif\", \"50N_120E.tif\", \"50N_120W.tif\", \"50N_130E.tif\", \"50N_130W.tif\", \"50N_140E.tif\", \"50N_150E.tif\", \"50S_060W.tif\", \"50S_070W.tif\", \"50S_080W.tif\", \"60N_000E.tif\", \"60N_010E.tif\", \"60N_010W.tif\", \"60N_020E.tif\", \"60N_020W.tif\", \"60N_030E.tif\", \"60N_040E.tif\", \"60N_050E.tif\", \"60N_060E.tif\", \"60N_060W.tif\", \"60N_070E.tif\", \"60N_070W.tif\", \"60N_080E.tif\", \"60N_080W.tif\", \"60N_090E.tif\", \"60N_090W.tif\", \"60N_100E.tif\", \"60N_100W.tif\", \"60N_110E.tif\", \"60N_110W.tif\", \"60N_120E.tif\", \"60N_120W.tif\", \"60N_130W.tif\", \"60N_140E.tif\", \"60N_140W.tif\", \"60N_150E.tif\", \"60N_150W.tif\", \"60N_160E.tif\", \"60N_160W.tif\", \"60N_170E.tif\", \"60N_170W.tif\", \"60N_180W.tif\", \"70N_000E.tif\", \"70N_010E.tif\", \"70N_010W.tif\", \"70N_020E.tif\", \"70N_020W.tif\", \"70N_030E.tif\", \"70N_030W.tif\", \"70N_040E.tif\", \"70N_050E.tif\", \"70N_060E.tif\", \"70N_070E.tif\", \"70N_080E.tif\", \"70N_080W.tif\", \"70N_090E.tif\", \"70N_090W.tif\", \"70N_100E.tif\", \"70N_100W.tif\", \"70N_110E.tif\", \"70N_110W.tif\", \"70N_120E.tif\", \"70N_120W.tif\", \"70N_130E.tif\", \"70N_130W.tif\", \"70N_140E.tif\", \"70N_140W.tif\", \"70N_150E.tif\", \"70N_150W.tif\", \"70N_160E.tif\", \"70N_160W.tif\", \"70N_170E.tif\", \"70N_180W.tif\", \"80N_020E.tif\", \"80N_060E.tif\", \"80N_070E.tif\", \"80N_080E.tif\", \"80N_090E.tif\", \"80N_110E.tif\", \"80N_120E.tif\", \"80N_120W.tif\", \"80N_130W.tif\", \"80N_140E.tif\", \"80N_140W.tif\"]\n",
    "\n",
    "# specify full or test: \n",
    "tiles = tiles_test\n",
    "\n",
    "peatlands_uri = \"s3://gfw2-data/climate/AFOLU_flux_model/organic_soils/inputs/raw/GFW_Global_Peatlands/\"\n",
    "dadap_uri = \"s3://gfw2-data/climate/AFOLU_flux_model/organic_soils/inputs/raw/Dadap_SEA_Drainage/canal_length_data/canal_length_1km.tif\"\n",
    "s3_base_dir = \"s3://gfw2-data/climate/AFOLU_flux_model/organic_soils/\"\n",
    "dadap_pattern = \"dadap_density\"\n",
    "\n",
    "processed_dir = \"s3:/gfw2-data/climate/AFOLU_flux_model/organic_soils/inputs/processed\"\n",
    "output_dir = os.path.join(processed_dir)"
   ]
  },
  {
   "cell_type": "code",
   "execution_count": 53,
   "id": "39d61394-f39b-49b9-8219-0ef210a49b18",
   "metadata": {},
   "outputs": [],
   "source": [
    "dadap_density = get_dataset(dadap_uri, \"dadap_density\", template=None)\n",
    "test_tile = get_tile_dataset(peatlands_uri, tiles[0], \"peatlands\", template=None)"
   ]
  },
  {
   "cell_type": "code",
   "execution_count": 54,
   "id": "beb894bf-a35a-4c3c-b748-ffeb76f833e5",
   "metadata": {},
   "outputs": [],
   "source": [
    "def save_and_upload_raster_10x10(data_array, out_file_name, out_folder):\n",
    "    local_path = f\"/tmp/{out_file_name}\"\n",
    "    s3_bucket = \"gfw2-data\"\n",
    "    s3_key = f\"{out_folder.strip('/')}/{out_file_name}\"\n",
    "\n",
    "    # Configure compression for the output raster\n",
    "    with rasterio.Env():\n",
    "        profile = data_array.profile\n",
    "        profile.update(compress='lzw')\n",
    "\n",
    "        # Save locally\n",
    "        with rasterio.open(local_path, 'w', **profile) as dst:\n",
    "            dst.write(data_array.read(1), 1)\n",
    "\n",
    "    # Upload to S3\n",
    "    s3_client = boto3.client(\"s3\")\n",
    "    s3_client.upload_file(local_path, s3_bucket, s3_key)\n",
    "    print(f\"Uploaded {out_file_name} to S3 at {s3_key}\")\n",
    "\n",
    "    # Clean up local file\n",
    "    os.remove(local_path)\n",
    "    print(f\"Deleted local file: {local_path}\")"
   ]
  },
  {
   "cell_type": "code",
   "execution_count": null,
   "id": "450f2bdd-9be1-4ebc-b1ff-da91b8471c41",
   "metadata": {},
   "outputs": [
    {
     "name": "stdout",
     "output_type": "stream",
     "text": [
      "Loading dadap density raster...\n",
      "Loading template raster for CRS and resolution reference...\n",
      "Reprojecting and resampling dadap density raster...\n"
     ]
    }
   ],
   "source": [
    "def preprocess_dadap_density():\n",
    "    print(\"Loading dadap density raster...\")\n",
    "    dadap_density = get_dataset(dadap_uri, \"dadap_density\", template=None)\n",
    "\n",
    "    # Load a template raster from the Hansen dataset for reference\n",
    "    print(\"Loading template raster for CRS and resolution reference...\")\n",
    "    template_raster = get_tile_dataset(peatlands_uri, tiles[0], \"peatlands\", template=None)\n",
    "\n",
    "    # Reproject and resample dadap_density to match template\n",
    "    print(\"Reprojecting and resampling dadap density raster...\")\n",
    "    dadap_density = dadap_density.rio.reproject_match(template_raster)\n",
    "\n",
    "    return dadap_density\n",
    "\n",
    "dadap_density = preprocess_dadap_density()"
   ]
  },
  {
   "cell_type": "code",
   "execution_count": null,
   "id": "fc92c675-a2a9-4b7e-97fb-f41c8e8c3d50",
   "metadata": {},
   "outputs": [],
   "source": [
    "def clip_and_save_dadap_density(bounds, dadap_density, is_final):\n",
    "    xmin, ymin, xmax, ymax = bounds\n",
    "    bounds_str = f\"{xmin}_{ymin}_{xmax}_{ymax}\"\n",
    "    tile_id = xy_to_tile_id(bounds[0], bounds[3])  # Simplify this as needed\n",
    "\n",
    "    # Clip the raster\n",
    "    clipped = dadap_density.rio.clip_box(xmin, ymin, xmax, ymax)\n",
    "\n",
    "    # Generate the file name\n",
    "    out_file_name = f\"{tile_id}_{time.strftime('%Y%m%d%H%M%S')}.tif\"\n",
    "    out_folder = \"gfw2-data/climate/AFOLU_flux_model/organic_soils/inputs/processed\"\n",
    "\n",
    "    # Check if there is any valid data before saving\n",
    "    if np.any(clipped.data != clipped.rio.nodata):\n",
    "        # Save and upload using the custom function\n",
    "        save_and_upload_raster_10x10(clipped, out_file_name, out_folder)\n",
    "    else:\n",
    "        print(f\"No valid data in chunk {bounds} for tile {tile_id}. Skipping this chunk.\")"
   ]
  },
  {
   "cell_type": "code",
   "execution_count": null,
   "id": "c59f2f87-d68c-4762-b3ee-481b69eb2037",
   "metadata": {},
   "outputs": [],
   "source": [
    "chunk_params = [110, -10, 120, 0, 2]  # Customize as needed\n",
    "#chunk_params = [110, -6, 112, -4, 1]\n",
    "\n",
    "# Makes list of chunks to analyze\n",
    "chunks = get_chunk_bounds(chunk_params)  \n",
    "print(\"Processing\", len(chunks), \"chunks\")\n",
    "\n",
    "# Determines if the output file names for final versions of outputs should be used\n",
    "is_final = False\n",
    "if len(chunks) > 30:\n",
    "    is_final = True\n",
    "    print(\"Running as final model.\")\n",
    "\n",
    "# Creates list of tasks to run (1 task = 1 chunk for all years)\n",
    "delayed_result = [dask.delayed(clip_and_save_dadap_density)(chunk, is_final) for chunk in chunks]\n",
    "\n",
    "# Actually runs analysis\n",
    "results = dask.compute(*delayed_result)\n",
    "results"
   ]
  },
  {
   "cell_type": "code",
   "execution_count": null,
   "id": "17b83583-8839-4a97-bdfb-f6906862a879",
   "metadata": {},
   "outputs": [],
   "source": [
    "# # Convert processing to Dask delayed tasks\n",
    "# tasks = [dask.delayed(process_tiles)(dadap_density, output_dir, [tile]) for tile in tiles]\n",
    "# results = dask.compute(*tasks)"
   ]
  },
  {
   "cell_type": "code",
   "execution_count": null,
   "id": "da399b72-1316-4229-a340-974b518c6966",
   "metadata": {},
   "outputs": [],
   "source": []
  }
 ],
 "metadata": {
  "kernelspec": {
   "display_name": "Python 3 (ipykernel)",
   "language": "python",
   "name": "python3"
  },
  "language_info": {
   "codemirror_mode": {
    "name": "ipython",
    "version": 3
   },
   "file_extension": ".py",
   "mimetype": "text/x-python",
   "name": "python",
   "nbconvert_exporter": "python",
   "pygments_lexer": "ipython3",
   "version": "3.10.6"
  }
 },
 "nbformat": 4,
 "nbformat_minor": 5
}
