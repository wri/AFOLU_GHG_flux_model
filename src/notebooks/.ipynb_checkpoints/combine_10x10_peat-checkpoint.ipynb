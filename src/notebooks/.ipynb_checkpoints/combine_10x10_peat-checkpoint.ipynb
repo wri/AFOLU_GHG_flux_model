{
 "cells": [
  {
   "cell_type": "code",
   "execution_count": 282,
   "id": "e3e1d0c1-d690-4f07-8da7-441dcd48a513",
   "metadata": {},
   "outputs": [],
   "source": [
    "import os\n",
    "import logging\n",
    "import boto3\n",
    "import rioxarray\n",
    "import rasterio\n",
    "from rasterio.merge import merge as merge_arrays\n",
    "import dask\n",
    "from dask.distributed import Client, LocalCluster\n",
    "from dask.diagnostics import ProgressBar"
   ]
  },
  {
   "cell_type": "code",
   "execution_count": 283,
   "id": "9e6c374c-7910-4566-a125-1d0eab542052",
   "metadata": {},
   "outputs": [],
   "source": [
    "# Setup logging\n",
    "logging.basicConfig(level=logging.INFO, format='%(asctime)s - %(message)s')\n"
   ]
  },
  {
   "cell_type": "code",
   "execution_count": 284,
   "id": "9dd301b7-cf65-4fe7-9957-61a2ae1b3685",
   "metadata": {},
   "outputs": [],
   "source": [
    "# AWS S3 setup\n",
    "s3_bucket = \"gfw2-data\"\n",
    "local_temp_dir = \"/tmp/merged\""
   ]
  },
  {
   "cell_type": "code",
   "execution_count": 285,
   "id": "62e17e94-d0fd-4b75-845f-1d6fc7dbcaea",
   "metadata": {},
   "outputs": [],
   "source": [
    "def s3_file_exists(bucket, key):\n",
    "    s3 = boto3.client('s3')\n",
    "    try:\n",
    "        s3.head_object(Bucket=bucket, Key=key)\n",
    "        logging.info(f\"File exists: s3://{bucket}/{key}\")\n",
    "        return True\n",
    "    except:\n",
    "        logging.info(f\"File does not exist: s3://{bucket}/{key}\")\n",
    "        return False"
   ]
  },
  {
   "cell_type": "code",
   "execution_count": 286,
   "id": "7aef02bf-c264-41d9-be0d-1de7d8d38807",
   "metadata": {},
   "outputs": [],
   "source": [
    "def list_s3_files(bucket, prefix):\n",
    "    s3 = boto3.client('s3')\n",
    "    keys = []\n",
    "    try:\n",
    "        paginator = s3.get_paginator('list_objects_v2')\n",
    "        for page in paginator.paginate(Bucket=bucket, Prefix=prefix):\n",
    "            for obj in page.get('Contents', []):\n",
    "                keys.append(obj['Key'])\n",
    "    except Exception as e:\n",
    "        logging.error(f\"Error listing files in s3://{bucket}/{prefix}: {e}\")\n",
    "    return keys\n"
   ]
  },
  {
   "cell_type": "code",
   "execution_count": 287,
   "id": "f5fd9969-8469-4ed5-bac1-e923a1439468",
   "metadata": {},
   "outputs": [],
   "source": [
    "def merge_tiles(tile_id, input_prefix, output_prefix):\n",
    "    small_raster_paths = list_s3_files(s3_bucket, input_prefix)\n",
    "\n",
    "    small_raster_paths = [path for path in small_raster_paths if tile_id in path]\n",
    "\n",
    "    small_raster_paths = [f's3://{s3_bucket}/{path}' for path in small_raster_paths]\n",
    "\n",
    "    if not small_raster_paths:\n",
    "        logging.info(f\"No small rasters found for tile {tile_id}.\")\n",
    "        return\n",
    "\n",
    "    # Open rasters using rasterio directly\n",
    "    small_rasters = [rasterio.open(path) for path in small_raster_paths]\n",
    "\n",
    "    merged, out_transform = merge_arrays(small_rasters)\n",
    "\n",
    "    if not os.path.exists(local_temp_dir):\n",
    "        os.makedirs(local_temp_dir)\n",
    "\n",
    "    out_file = f'merged_{tile_id}.tif'\n",
    "    local_output_path = os.path.join(local_temp_dir, out_file)\n",
    "\n",
    "    # Copy the metadata from one of the source rasters\n",
    "    out_meta = small_rasters[0].meta.copy()\n",
    "    out_meta.update({\n",
    "        \"driver\": \"GTiff\",\n",
    "        \"height\": merged.shape[1],\n",
    "        \"width\": merged.shape[2],\n",
    "        \"transform\": out_transform,\n",
    "        \"compress\": \"lzw\"\n",
    "    })\n",
    "\n",
    "    with rasterio.open(local_output_path, 'w', **out_meta) as dst:\n",
    "        dst.write(merged, 1)\n",
    "\n",
    "    s3_client = boto3.client('s3')\n",
    "    s3_output_path = os.path.join(output_prefix, out_file)\n",
    "    s3_client.upload_file(local_output_path, s3_bucket, s3_output_path)\n",
    "    logging.info(f\"Uploaded merged raster to s3://{s3_bucket}/{s3_output_path}\")\n",
    "\n",
    "    os.remove(local_output_path)"
   ]
  },
  {
   "cell_type": "code",
   "execution_count": null,
   "id": "d0498764-70ca-44c7-9ab6-66063869ebf9",
   "metadata": {},
   "outputs": [],
   "source": [
    "def cleanup():\n",
    "    global client, cluster\n",
    "    if client:\n",
    "        client.close()\n",
    "    if cluster:\n",
    "        cluster.close()"
   ]
  },
  {
   "cell_type": "code",
   "execution_count": null,
   "id": "c469a14d-73dc-4355-b79e-65f20235aa8b",
   "metadata": {},
   "outputs": [],
   "source": [
    "def main(input_prefix, output_prefix):\n",
    "    global cluster, client\n",
    "    cluster = LocalCluster()\n",
    "    client = Client(cluster)\n",
    "    atexit.register(cleanup)  # Ensure the cluster is closed when the script exits\n",
    "\n",
    "    try:\n",
    "        tile_ids = list(set([os.path.basename(path).split('_')[0] for path in list_s3_files(s3_bucket, input_prefix)]))\n",
    "\n",
    "        dask_tiles = [dask.delayed(merge_tiles)(tile_id, input_prefix, output_prefix) for tile_id in tile_ids]\n",
    "        with ProgressBar():\n",
    "            dask.compute(*dask_tiles)\n",
    "    finally:\n",
    "        cleanup()"
   ]
  },
  {
   "cell_type": "code",
   "execution_count": null,
   "id": "d1655fec-06be-4a94-b65f-43199017f4a4",
   "metadata": {},
   "outputs": [],
   "source": [
    "if __name__ == \"__main__\":\n",
    "    input_prefix = 'climate/AFOLU_flux_model/organic_soils/outputs/soil/2020/8000_pixels/20240603/'  # Replace with your input prefix\n",
    "    output_prefix = 'climate/AFOLU_flux_model/organic_soils/outputs/soil/2020/10x10_degrees/'  # Replace with your desired output prefix\n",
    "    main(input_prefix, output_prefix)"
   ]
  }
 ],
 "metadata": {
  "kernelspec": {
   "display_name": "Python 3 (ipykernel)",
   "language": "python",
   "name": "python3"
  },
  "language_info": {
   "codemirror_mode": {
    "name": "ipython",
    "version": 3
   },
   "file_extension": ".py",
   "mimetype": "text/x-python",
   "name": "python",
   "nbconvert_exporter": "python",
   "pygments_lexer": "ipython3",
   "version": "3.10.6"
  }
 },
 "nbformat": 4,
 "nbformat_minor": 5
}
