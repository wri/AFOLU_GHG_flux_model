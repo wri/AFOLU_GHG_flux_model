{
 "cells": [
  {
   "cell_type": "markdown",
   "id": "8e4d2c59-ee95-42f1-9207-2eea73f269ce",
   "metadata": {},
   "source": [
    "### Creating Clusters"
   ]
  },
  {
   "cell_type": "code",
   "execution_count": null,
   "id": "094214f8-f3df-47bc-b412-65b77407de87",
   "metadata": {},
   "outputs": [],
   "source": [
    "import os\n",
    "import boto3\n",
    "import time\n",
    "import math\n",
    "import pandas as pd\n",
    "import subprocess\n",
    "import re\n",
    "import concurrent.futures\n",
    "from osgeo import gdal\n",
    "\n",
    "# dask/parallelization libraries\n",
    "import coiled\n",
    "import dask\n",
    "from dask.distributed import Client, LocalCluster\n",
    "from dask.distributed import print\n",
    "import distributed\n",
    "\n",
    "# scipy basics\n",
    "import numpy as np\n",
    "import rasterio\n",
    "import rasterio.transform\n",
    "import rasterio.windows\n",
    "import geopandas as gpd\n",
    "import pandas as pd\n",
    "import rioxarray\n",
    "import xarray as xr\n",
    "from rioxarray.merge import merge_arrays\n",
    "\n",
    "# numba\n",
    "from numba import jit\n",
    "from numba.typed import Dict\n",
    "from numba.core import types"
   ]
  },
  {
   "cell_type": "code",
   "execution_count": null,
   "id": "2087867c-2779-42a4-81a7-22010fbfca8b",
   "metadata": {},
   "outputs": [],
   "source": [
    "# Full cluster\n",
    "coiled_cluster = coiled.Cluster(\n",
    "    n_workers=40,\n",
    "    use_best_zone=True, \n",
    "    compute_purchase_option=\"spot_with_fallback\",\n",
    "    idle_timeout=\"10 minutes\",\n",
    "    region=\"us-east-1\",\n",
    "    name=\"AFOLU_flux_model\", \n",
    "    account='jterry64', # Necessary to use the AWS environment that Justin set up in Coiled\n",
    "    worker_memory = \"16GiB\" \n",
    ")\n",
    "\n",
    "# Coiled cluster (cloud run)\n",
    "coiled_client = coiled_cluster.get_client()\n",
    "coiled_client"
   ]
  },
  {
   "cell_type": "code",
   "execution_count": null,
   "id": "c881a13e-ef0a-4837-8249-eaccdb83d83c",
   "metadata": {},
   "outputs": [],
   "source": [
    "# Test cluster\n",
    "coiled_cluster = coiled.Cluster(\n",
    "    n_workers=1,\n",
    "    use_best_zone=True, \n",
    "    compute_purchase_option=\"spot_with_fallback\",\n",
    "    idle_timeout=\"15 minutes\",\n",
    "    region=\"us-east-1\",\n",
    "    name=\"AFOLU_flux_model\", \n",
    "    account='jterry64', # Necessary to use the AWS environment that Justin set up in Coiled\n",
    "    worker_memory = \"16GiB\" \n",
    ")\n",
    "\n",
    "# Coiled cluster (cloud run)\n",
    "coiled_client = coiled_cluster.get_client()\n",
    "coiled_client"
   ]
  },
  {
   "cell_type": "code",
   "execution_count": null,
   "id": "425f5e4e-dc48-483d-bfe1-ca93682bc230",
   "metadata": {},
   "outputs": [],
   "source": [
    "# Local single-process cluster (local run). Will run .compute() on just one process, not a whole cluster.\n",
    "local_client = Client(processes=False)\n",
    "local_client"
   ]
  },
  {
   "cell_type": "code",
   "execution_count": null,
   "id": "83785d11-4bae-4d91-b648-db00d0849893",
   "metadata": {},
   "outputs": [],
   "source": [
    "local_client = Client()\n",
    "local_client"
   ]
  },
  {
   "cell_type": "code",
   "execution_count": null,
   "id": "ca3208e7-e5d3-48cb-8e49-2f9ae8f4738b",
   "metadata": {},
   "outputs": [],
   "source": [
    "# Local cluster with multiple workers\n",
    "local_cluster = LocalCluster()  \n",
    "local_client = Client(local_cluster)\n",
    "local_client"
   ]
  },
  {
   "cell_type": "markdown",
   "id": "c5ac5e15-ddab-4a02-b8b8-df991947313d",
   "metadata": {},
   "source": [
    "### Shutting down cloud and local clusters"
   ]
  },
  {
   "cell_type": "code",
   "execution_count": null,
   "id": "726ec0b2-dc70-4a9a-9121-4ba68c6a3a79",
   "metadata": {},
   "outputs": [],
   "source": [
    "coiled_client.restart() "
   ]
  },
  {
   "cell_type": "code",
   "execution_count": null,
   "id": "156c8fc4-3d42-491b-ba1e-a570cb8d06bd",
   "metadata": {},
   "outputs": [],
   "source": [
    "coiled_cluster.shutdown()"
   ]
  },
  {
   "cell_type": "code",
   "execution_count": null,
   "id": "41e3f44e-9b2b-4093-9983-0e52471b5755",
   "metadata": {},
   "outputs": [],
   "source": [
    "local_client.shutdown()"
   ]
  }
 ],
 "metadata": {
  "kernelspec": {
   "display_name": "Python 3 (ipykernel)",
   "language": "python",
   "name": "python3"
  },
  "language_info": {
   "codemirror_mode": {
    "name": "ipython",
    "version": 3
   },
   "file_extension": ".py",
   "mimetype": "text/x-python",
   "name": "python",
   "nbconvert_exporter": "python",
   "pygments_lexer": "ipython3",
   "version": "3.10.6"
  }
 },
 "nbformat": 4,
 "nbformat_minor": 5
}
