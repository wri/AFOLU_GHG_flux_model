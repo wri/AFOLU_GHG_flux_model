{
 "cells": [
  {
   "cell_type": "code",
   "execution_count": 5,
   "id": "185f97d9-ee21-42ad-9e49-097878c8639b",
   "metadata": {},
   "outputs": [
    {
     "name": "stdout",
     "output_type": "stream",
     "text": [
      "Stored 'general_uri' (str)\n",
      "Stored 's3_out_dir' (str)\n",
      "Stored 'IPCC_class_max_val' (int)\n",
      "Stored 'forest' (int)\n",
      "Stored 'cropland' (int)\n",
      "Stored 'settlement' (int)\n",
      "Stored 'wetland' (int)\n",
      "Stored 'grassland' (int)\n",
      "Stored 'otherland' (int)\n"
     ]
    }
   ],
   "source": [
    "# General paths and constants\n",
    "\n",
    "general_uri = 's3://gfw2-data/landcover/composite/'\n",
    "%store general_uri\n",
    "\n",
    "s3_out_dir = 'climate/AFOLU_flux_model/LULUCF/outputs'\n",
    "%store s3_out_dir\n",
    "\n",
    "IPCC_class_max_val = 6\n",
    "%store IPCC_class_max_val\n",
    "\n",
    "# IPCC codes\n",
    "forest = 1\n",
    "cropland = 2\n",
    "settlement = 3\n",
    "wetland = 4\n",
    "grassland = 5\n",
    "otherland = 6\n",
    "%store forest\n",
    "%store cropland\n",
    "%store settlement\n",
    "%store wetland\n",
    "%store grassland\n",
    "%store otherland   "
   ]
  },
  {
   "cell_type": "code",
   "execution_count": null,
   "id": "8fa51beb-6d2b-4db2-a374-db2dd3c176cb",
   "metadata": {},
   "outputs": [],
   "source": [
    "def timestr():\n",
    "    return time.strftime(\"%Y%m%d_%H_%M_%S\")\n",
    "\n",
    "def boundstr(bounds):\n",
    "    bounds_str = \"_\".join([str(round(x)) for x in bounds])\n",
    "    return bounds_str\n",
    "\n",
    "def calc_chunk_length_pixels(bounds):\n",
    "    chunk_length_pixels = int((bounds[3]-bounds[1]) * (40000/10))\n",
    "    return chunk_length_pixels"
   ]
  }
 ],
 "metadata": {
  "kernelspec": {
   "display_name": "Python 3 (ipykernel)",
   "language": "python",
   "name": "python3"
  },
  "language_info": {
   "codemirror_mode": {
    "name": "ipython",
    "version": 3
   },
   "file_extension": ".py",
   "mimetype": "text/x-python",
   "name": "python",
   "nbconvert_exporter": "python",
   "pygments_lexer": "ipython3",
   "version": "3.10.6"
  }
 },
 "nbformat": 4,
 "nbformat_minor": 5
}
