{
 "cells": [
  {
   "cell_type": "code",
   "execution_count": null,
   "id": "05256dba-83d7-43c0-9418-92a9a366f598",
   "metadata": {},
   "outputs": [],
   "source": [
    "# To run without dask at all\n",
    "process_chunk([10, 49, 11, 50], 1)"
   ]
  },
  {
   "cell_type": "code",
   "execution_count": null,
   "id": "aa41ade2-8dce-4a43-a80b-7629d13f13fa",
   "metadata": {},
   "outputs": [],
   "source": [
    "# Download test-- checks that uri is found and recognized\n",
    "tile_id = \"50N_010E\"\n",
    "# uri = f\"s3://gfw2-data/climate/carbon_model/BGB_AGB_ratio/processed/20230216/{tile_id}_BGB_AGB_ratio.tif\"\n",
    "uri = f\"s3://gfw2-data/gadm_administrative_boundaries/v3.6/raster/epsg-4326/10/40000/adm0/gdal-geotiff/{tile_id}.tif\"  # Originally from gfw-data-lake, so it's in 400x400 windows\n",
    "# uri = f\"s3://gfw2-data/fao_ecozones/v2000/raster/epsg-4326/10/40000/class/gdal-geotiff/{tile_id}.tif\"   # Originally from gfw-data-lake, so it's in 400x400 windows \n",
    "bounds = [10, 49.75, 10.25, 50]\n",
    "\n",
    "get_tile_dataset_rio(uri, bounds, 1000)"
   ]
  },
  {
   "cell_type": "code",
   "execution_count": null,
   "id": "9f118b11-1208-4629-a2f2-27ba2d9ebfd2",
   "metadata": {},
   "outputs": [],
   "source": [
    "client.cancel(future) # per https://github.com/dask/distributed/issues/3898#issuecomment-645590511"
   ]
  },
  {
   "cell_type": "code",
   "execution_count": null,
   "id": "b0ac39ad-a258-4cc4-a11d-1c39131a5b3e",
   "metadata": {},
   "outputs": [],
   "source": [
    "# aws s3 cp s3://gfw2-data/climate/European_height_carbon_model/outputs/ . --recursive --exclude \"*\" --include \"*10_49_11_50*\"\n",
    "# aws s3 cp s3://gfw2-data/climate/European_height_carbon_model/outputs/ . --recursive --exclude \"*\" --include \"*2002*10_49_11_50*\""
   ]
  }
 ],
 "metadata": {
  "kernelspec": {
   "display_name": "Python 3 (ipykernel)",
   "language": "python",
   "name": "python3"
  },
  "language_info": {
   "codemirror_mode": {
    "name": "ipython",
    "version": 3
   },
   "file_extension": ".py",
   "mimetype": "text/x-python",
   "name": "python",
   "nbconvert_exporter": "python",
   "pygments_lexer": "ipython3",
   "version": "3.10.6"
  }
 },
 "nbformat": 4,
 "nbformat_minor": 5
}
