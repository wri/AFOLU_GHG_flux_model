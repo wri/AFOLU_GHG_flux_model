{
 "cells": [
  {
   "cell_type": "code",
   "execution_count": 34,
   "id": "3824e156-86ed-4a56-b0ef-531c2287e425",
   "metadata": {},
   "outputs": [
    {
     "name": "stderr",
     "output_type": "stream",
     "text": [
      "/home/melrose94/anaconda3/envs/dask_notebook/lib/python3.10/site-packages/dask/dataframe/_pyarrow_compat.py:17: FutureWarning: Minimal version of pyarrow will soon be increased to 14.0.1. You are using 11.0.0. Please consider upgrading.\n",
      "  warnings.warn(\n"
     ]
    }
   ],
   "source": [
    "# importing dependencies for notebook\n",
    "import rioxarray\n",
    "import rasterio\n",
    "import xarray as xr\n",
    "import numpy as np\n",
    "import pandas as pd\n",
    "import pycountry\n",
    "import dask.multiprocessing\n",
    "from xrspatial import zonal_stats\n",
    "from dask.distributed import Client\n",
    "#from wri_notebooks_utils.wri_notebooks_utils import get_dask_ecs_client\n",
    "from xrspatial.zonal import _stats_count as xr_count\n",
    "from pathlib import Path \n",
    "\n",
    "# dask/parallelization libraries\n",
    "import coiled\n",
    "import dask\n",
    "from dask.distributed import Client, LocalCluster\n",
    "from dask.distributed import print\n",
    "import distributed"
   ]
  },
  {
   "cell_type": "markdown",
   "id": "8dcad4e0-facb-4b0b-a739-7c76ceee462a",
   "metadata": {},
   "source": [
    "<font size=\"5\">Creating clusters</font> "
   ]
  },
  {
   "cell_type": "code",
   "execution_count": null,
   "id": "9609735a-7060-4750-ba11-4433a4e014c5",
   "metadata": {},
   "outputs": [],
   "source": [
    "# # create a dask cluster and make this notebook its client\n",
    "# client = get_dask_ecs_client(n_workers=100) # options: n_workers, worker_mem, worker_cpu, scheduler_mem\n",
    "# client"
   ]
  },
  {
   "cell_type": "code",
   "execution_count": null,
   "id": "c843741f-5aac-408b-950d-802b74eab136",
   "metadata": {},
   "outputs": [],
   "source": [
    "# # Full cluster\n",
    "# coiled_cluster = coiled.Cluster(\n",
    "#     n_workers=40,\n",
    "#     use_best_zone=True, \n",
    "#     compute_purchase_option=\"spot_with_fallback\",\n",
    "#     idle_timeout=\"10 minutes\",\n",
    "#     region=\"us-east-1\",\n",
    "#     name=\"AFOLU_flux_model\", \n",
    "#     account='wri-forest-research', \n",
    "#     worker_cpu=4,\n",
    "#     worker_memory = \"32GiB\" \n",
    "# )\n",
    "\n",
    "# # Coiled cluster (cloud run)\n",
    "# coiled_client = coiled_cluster.get_client()\n",
    "# coiled_client"
   ]
  },
  {
   "cell_type": "code",
   "execution_count": null,
   "id": "5819df55-2581-404e-9005-9b6fcd783b0d",
   "metadata": {},
   "outputs": [],
   "source": [
    "# # Test cluster\n",
    "# coiled_cluster = coiled.Cluster(\n",
    "#     n_workers=1,\n",
    "#     use_best_zone=True, \n",
    "#     compute_purchase_option=\"spot_with_fallback\",\n",
    "#     idle_timeout=\"20 minutes\",\n",
    "#     region=\"us-east-1\",\n",
    "#     name=\"AFOLU_flux_model\", \n",
    "#     account='wri-forest-research', \n",
    "#     worker_cpu=4,\n",
    "#     worker_memory = \"32GiB\" \n",
    "# )\n",
    "\n",
    "# # Coiled cluster (cloud run)\n",
    "# coiled_client = coiled_cluster.get_client()\n",
    "# coiled_client"
   ]
  },
  {
   "cell_type": "code",
   "execution_count": 35,
   "id": "4cf629ec-64c3-46e0-94f4-76a2c3802e0b",
   "metadata": {},
   "outputs": [
    {
     "data": {
      "text/html": [
       "<div>\n",
       "    <div style=\"width: 24px; height: 24px; background-color: #e1e1e1; border: 3px solid #9D9D9D; border-radius: 5px; position: absolute;\"> </div>\n",
       "    <div style=\"margin-left: 48px;\">\n",
       "        <h3 style=\"margin-bottom: 0px;\">Client</h3>\n",
       "        <p style=\"color: #9D9D9D; margin-bottom: 0px;\">Client-318806fc-77a4-11ef-b57f-00155d2dd235</p>\n",
       "        <table style=\"width: 100%; text-align: left;\">\n",
       "\n",
       "        <tr>\n",
       "        \n",
       "            <td style=\"text-align: left;\"><strong>Connection method:</strong> Cluster object</td>\n",
       "            <td style=\"text-align: left;\"><strong>Cluster type:</strong> distributed.LocalCluster</td>\n",
       "        \n",
       "        </tr>\n",
       "\n",
       "        \n",
       "            <tr>\n",
       "                <td style=\"text-align: left;\">\n",
       "                    <strong>Dashboard: </strong> <a href=\"http://172.17.68.74:8787/status\" target=\"_blank\">http://172.17.68.74:8787/status</a>\n",
       "                </td>\n",
       "                <td style=\"text-align: left;\"></td>\n",
       "            </tr>\n",
       "        \n",
       "\n",
       "        </table>\n",
       "\n",
       "        \n",
       "\n",
       "        \n",
       "            <details>\n",
       "            <summary style=\"margin-bottom: 20px;\"><h3 style=\"display: inline;\">Cluster Info</h3></summary>\n",
       "            <div class=\"jp-RenderedHTMLCommon jp-RenderedHTML jp-mod-trusted jp-OutputArea-output\">\n",
       "    <div style=\"width: 24px; height: 24px; background-color: #e1e1e1; border: 3px solid #9D9D9D; border-radius: 5px; position: absolute;\">\n",
       "    </div>\n",
       "    <div style=\"margin-left: 48px;\">\n",
       "        <h3 style=\"margin-bottom: 0px; margin-top: 0px;\">LocalCluster</h3>\n",
       "        <p style=\"color: #9D9D9D; margin-bottom: 0px;\">e78c8dc2</p>\n",
       "        <table style=\"width: 100%; text-align: left;\">\n",
       "            <tr>\n",
       "                <td style=\"text-align: left;\">\n",
       "                    <strong>Dashboard:</strong> <a href=\"http://172.17.68.74:8787/status\" target=\"_blank\">http://172.17.68.74:8787/status</a>\n",
       "                </td>\n",
       "                <td style=\"text-align: left;\">\n",
       "                    <strong>Workers:</strong> 1\n",
       "                </td>\n",
       "            </tr>\n",
       "            <tr>\n",
       "                <td style=\"text-align: left;\">\n",
       "                    <strong>Total threads:</strong> 12\n",
       "                </td>\n",
       "                <td style=\"text-align: left;\">\n",
       "                    <strong>Total memory:</strong> 15.47 GiB\n",
       "                </td>\n",
       "            </tr>\n",
       "            \n",
       "            <tr>\n",
       "    <td style=\"text-align: left;\"><strong>Status:</strong> running</td>\n",
       "    <td style=\"text-align: left;\"><strong>Using processes:</strong> False</td>\n",
       "</tr>\n",
       "\n",
       "            \n",
       "        </table>\n",
       "\n",
       "        <details>\n",
       "            <summary style=\"margin-bottom: 20px;\">\n",
       "                <h3 style=\"display: inline;\">Scheduler Info</h3>\n",
       "            </summary>\n",
       "\n",
       "            <div style=\"\">\n",
       "    <div>\n",
       "        <div style=\"width: 24px; height: 24px; background-color: #FFF7E5; border: 3px solid #FF6132; border-radius: 5px; position: absolute;\"> </div>\n",
       "        <div style=\"margin-left: 48px;\">\n",
       "            <h3 style=\"margin-bottom: 0px;\">Scheduler</h3>\n",
       "            <p style=\"color: #9D9D9D; margin-bottom: 0px;\">Scheduler-5afbd9fd-191e-4337-ba01-69b9fca6c444</p>\n",
       "            <table style=\"width: 100%; text-align: left;\">\n",
       "                <tr>\n",
       "                    <td style=\"text-align: left;\">\n",
       "                        <strong>Comm:</strong> inproc://172.17.68.74/390527/1\n",
       "                    </td>\n",
       "                    <td style=\"text-align: left;\">\n",
       "                        <strong>Workers:</strong> 1\n",
       "                    </td>\n",
       "                </tr>\n",
       "                <tr>\n",
       "                    <td style=\"text-align: left;\">\n",
       "                        <strong>Dashboard:</strong> <a href=\"http://172.17.68.74:8787/status\" target=\"_blank\">http://172.17.68.74:8787/status</a>\n",
       "                    </td>\n",
       "                    <td style=\"text-align: left;\">\n",
       "                        <strong>Total threads:</strong> 12\n",
       "                    </td>\n",
       "                </tr>\n",
       "                <tr>\n",
       "                    <td style=\"text-align: left;\">\n",
       "                        <strong>Started:</strong> Just now\n",
       "                    </td>\n",
       "                    <td style=\"text-align: left;\">\n",
       "                        <strong>Total memory:</strong> 15.47 GiB\n",
       "                    </td>\n",
       "                </tr>\n",
       "            </table>\n",
       "        </div>\n",
       "    </div>\n",
       "\n",
       "    <details style=\"margin-left: 48px;\">\n",
       "        <summary style=\"margin-bottom: 20px;\">\n",
       "            <h3 style=\"display: inline;\">Workers</h3>\n",
       "        </summary>\n",
       "\n",
       "        \n",
       "        <div style=\"margin-bottom: 20px;\">\n",
       "            <div style=\"width: 24px; height: 24px; background-color: #DBF5FF; border: 3px solid #4CC9FF; border-radius: 5px; position: absolute;\"> </div>\n",
       "            <div style=\"margin-left: 48px;\">\n",
       "            <details>\n",
       "                <summary>\n",
       "                    <h4 style=\"margin-bottom: 0px; display: inline;\">Worker: 0</h4>\n",
       "                </summary>\n",
       "                <table style=\"width: 100%; text-align: left;\">\n",
       "                    <tr>\n",
       "                        <td style=\"text-align: left;\">\n",
       "                            <strong>Comm: </strong> inproc://172.17.68.74/390527/4\n",
       "                        </td>\n",
       "                        <td style=\"text-align: left;\">\n",
       "                            <strong>Total threads: </strong> 12\n",
       "                        </td>\n",
       "                    </tr>\n",
       "                    <tr>\n",
       "                        <td style=\"text-align: left;\">\n",
       "                            <strong>Dashboard: </strong> <a href=\"http://172.17.68.74:38113/status\" target=\"_blank\">http://172.17.68.74:38113/status</a>\n",
       "                        </td>\n",
       "                        <td style=\"text-align: left;\">\n",
       "                            <strong>Memory: </strong> 15.47 GiB\n",
       "                        </td>\n",
       "                    </tr>\n",
       "                    <tr>\n",
       "                        <td style=\"text-align: left;\">\n",
       "                            <strong>Nanny: </strong> None\n",
       "                        </td>\n",
       "                        <td style=\"text-align: left;\"></td>\n",
       "                    </tr>\n",
       "                    <tr>\n",
       "                        <td colspan=\"2\" style=\"text-align: left;\">\n",
       "                            <strong>Local directory: </strong> /tmp/dask-scratch-space/worker-5o0935rl\n",
       "                        </td>\n",
       "                    </tr>\n",
       "\n",
       "                    \n",
       "\n",
       "                    \n",
       "\n",
       "                </table>\n",
       "            </details>\n",
       "            </div>\n",
       "        </div>\n",
       "        \n",
       "\n",
       "    </details>\n",
       "</div>\n",
       "\n",
       "        </details>\n",
       "    </div>\n",
       "</div>\n",
       "            </details>\n",
       "        \n",
       "\n",
       "    </div>\n",
       "</div>"
      ],
      "text/plain": [
       "<Client: 'inproc://172.17.68.74/390527/1' processes=1 threads=12, memory=15.47 GiB>"
      ]
     },
     "execution_count": 35,
     "metadata": {},
     "output_type": "execute_result"
    }
   ],
   "source": [
    "# Local single-process cluster (local run). Will run .compute() on just one process, not a whole cluster.\n",
    "local_client = Client(processes=False)\n",
    "local_client"
   ]
  },
  {
   "cell_type": "code",
   "execution_count": null,
   "id": "c48c3f2b-48ff-4fd0-892c-944c4935d622",
   "metadata": {},
   "outputs": [],
   "source": [
    "# # Local cluster with multiple workers\n",
    "# local_cluster = LocalCluster()  \n",
    "# local_client = Client(local_cluster)\n",
    "# local_client"
   ]
  },
  {
   "cell_type": "markdown",
   "id": "667a770a-4fe8-4bd8-bf5b-51798183ff5c",
   "metadata": {},
   "source": [
    "<font size=\"5\">Shutting down cloud and local clusters</font> "
   ]
  },
  {
   "cell_type": "code",
   "execution_count": 39,
   "id": "fe576ce2-ad8d-47f5-8e14-490b435a073e",
   "metadata": {},
   "outputs": [],
   "source": [
    "# coiled_client.restart() "
   ]
  },
  {
   "cell_type": "code",
   "execution_count": 39,
   "id": "dc419335-df2e-4495-8b06-55977f89f488",
   "metadata": {},
   "outputs": [],
   "source": [
    "# coiled_cluster.shutdown()"
   ]
  },
  {
   "cell_type": "code",
   "execution_count": 47,
   "id": "e257b599-9be1-498f-9082-7f7f29011bd3",
   "metadata": {},
   "outputs": [],
   "source": [
    "local_client.shutdown()"
   ]
  },
  {
   "cell_type": "markdown",
   "id": "bf1d8a1e-6d44-439a-88c2-86cca8b64651",
   "metadata": {},
   "source": [
    "<font size=\"5\">Utilities and Variables</font> "
   ]
  },
  {
   "cell_type": "markdown",
   "id": "4f96206b-fcba-40e8-991d-ffe6d65d9d68",
   "metadata": {},
   "source": [
    "<font size=\"4\">Run/ source utilities and variables</font> "
   ]
  },
  {
   "cell_type": "code",
   "execution_count": 36,
   "id": "2df45a02-73cc-4d61-9007-2df6b395a9e0",
   "metadata": {},
   "outputs": [],
   "source": [
    "#tile list \n",
    "tile_id = \"00N_060W\""
   ]
  },
  {
   "cell_type": "code",
   "execution_count": 37,
   "id": "1d08686b-1bdb-42a3-8603-4cc755d1215d",
   "metadata": {},
   "outputs": [],
   "source": [
    "# year list "
   ]
  },
  {
   "cell_type": "code",
   "execution_count": 38,
   "id": "ccf620ac-b60f-4313-968f-e8904f05d4bc",
   "metadata": {},
   "outputs": [],
   "source": [
    "#Optional Zone Inputs\n",
    "\n",
    "# gadm boundary tiles\n",
    "iso_gadm_path = 's3://gfw-data-lake/gadm_administrative_boundaries/v3.6/raster/epsg-4326/10/40000/adm0/geotiff/'\n",
    "iso_gadm_pattern = ''\n",
    "\n",
    "# climate domain\n",
    "climate_domain_path = \"s3://gfw2-data/climate/carbon_model/inputs_for_carbon_pools/processed/fao_ecozones_bor_tem_tro/20190418/\"\n",
    "climate_domain_pattern = \"fao_ecozones_bor_tem_tro_processed\"\n",
    "\n",
    "#ecozone\n",
    "continent_ecozone_path = \"s3://gfw2-data/climate/carbon_model/fao_ecozones/ecozone_continent/20190116/processed/\"\n",
    "continent_ecozone_pattern = \"fao_ecozones_continents_processed\"\n",
    "\n",
    "#IPCC basic class [for single yeaars only (i.e. 2000, 2005, 2010, 2015, 2020)]\n",
    "ipcc_class_2000_path = \"s3://gfw2-data/climate/AFOLU_flux_model/LULUCF/outputs/IPCC_basic_classes/2000/40000_pixels/20240205/\"\n",
    "ipcc_class_2000_pattern = \"IPCC_classes_2000\""
   ]
  },
  {
   "cell_type": "code",
   "execution_count": 39,
   "id": "65029cc5-b5ec-4c72-8e9f-9862fc3bbc4c",
   "metadata": {},
   "outputs": [],
   "source": [
    "#Optional Stats Inputs\n",
    "\n",
    "#AGC density 2000 (MgC per ha)\n",
    "agc_density_2000_path = \"s3://gfw2-data/climate/AFOLU_flux_model/LULUCF/outputs/AGC_density_MgC_ha/2000/40000_pixels/20240821/\"\n",
    "agc_density_2000_pattern = \"AGC_density_MgC_ha_2000\"\n",
    "\n",
    "#BGC density 2000 (MgC per ha)\n",
    "bgc_density_2000_path = \"s3://gfw2-data/climate/AFOLU_flux_model/LULUCF/outputs/BGC_density_MgC_ha/2000/40000_pixels/20240821/\"\n",
    "bgc_density_2000_pattern = \"BGC_density_MgC_ha_2000\"\n",
    "\n",
    "#Deadwood density 2000 (MgC per ha)\n",
    "deadwood_density_2000_path = \"s3://gfw2-data/climate/AFOLU_flux_model/LULUCF/outputs/deadwood_C_density_MgC_ha/2000/40000_pixels/20240821/\"\n",
    "deadwood_density_2000_pattern = \"deadwood_C_density_MgC_ha_2000\"\n",
    "\n",
    "#Litter density 2000 (MgC per ha)\n",
    "litter_density_2000_path = \"s3://gfw2-data/climate/AFOLU_flux_model/LULUCF/outputs/litter_C_density_MgC_ha/2000/40000_pixels/20240821/\"\n",
    "litter_density_2000_pattern = \"litter_C_density_MgC_ha_2000\""
   ]
  },
  {
   "cell_type": "markdown",
   "id": "a46a4077-737c-4306-ab22-7008e92a6086",
   "metadata": {},
   "source": [
    "<font size=\"5\">Calculate Zonal Stats 2000</font> "
   ]
  },
  {
   "cell_type": "markdown",
   "id": "9c4d3a01-6546-4aa2-ab2b-2baaac9b5535",
   "metadata": {},
   "source": [
    "<font size=\"4\">Zone Inputs (Categorical)</font> "
   ]
  },
  {
   "cell_type": "code",
   "execution_count": 40,
   "id": "1104dc06-b039-4ad9-8296-3722ca34de93",
   "metadata": {},
   "outputs": [
    {
     "name": "stdout",
     "output_type": "stream",
     "text": [
      "{'climate_domain': 's3://gfw2-data/climate/carbon_model/inputs_for_carbon_pools/processed/fao_ecozones_bor_tem_tro/20190418/00N_060W_fao_ecozones_bor_tem_tro_processed.tif', 'continent_ecozone': 's3://gfw2-data/climate/carbon_model/fao_ecozones/ecozone_continent/20190116/processed/00N_060W_fao_ecozones_continents_processed.tif', 'ipcc_class_2000': 's3://gfw2-data/climate/AFOLU_flux_model/LULUCF/outputs/IPCC_basic_classes/2000/40000_pixels/20240205/00N_060W__IPCC_classes_2000.tif'}\n"
     ]
    }
   ],
   "source": [
    "zone_dict = {}\n",
    "#zone_dict[\"iso_gadm\"] = f\"{iso_gadm_path}{tile_id}{iso_gadm_pattern}.tif\"\n",
    "zone_dict[\"climate_domain\"] = f\"{climate_domain_path}{tile_id}_{climate_domain_pattern}.tif\"\n",
    "zone_dict[\"continent_ecozone\"] = f\"{continent_ecozone_path}{tile_id}_{continent_ecozone_pattern}.tif\"\n",
    "zone_dict[\"ipcc_class_2000\"] = f\"{ipcc_class_2000_path}{tile_id}__{ipcc_class_2000_pattern}.tif\"\n",
    "\n",
    "print(zone_dict)\n",
    "#TODO: Why is iso_gadm showing up as none?\n",
    "#9.71Gib"
   ]
  },
  {
   "cell_type": "markdown",
   "id": "21bb7f52-58b5-470a-9be0-1cdd9245171b",
   "metadata": {},
   "source": [
    "<font size=\"4\">Stat Inputs (Quantitative)</font> "
   ]
  },
  {
   "cell_type": "code",
   "execution_count": 41,
   "id": "e7075382-9b39-48b7-9b8e-41126b9e2bb8",
   "metadata": {},
   "outputs": [
    {
     "name": "stdout",
     "output_type": "stream",
     "text": [
      "{'agc_density_2000': 's3://gfw2-data/climate/AFOLU_flux_model/LULUCF/outputs/AGC_density_MgC_ha/2000/40000_pixels/20240821/00N_060W__AGC_density_MgC_ha_2000.tif', 'bgc_density_2000': 's3://gfw2-data/climate/AFOLU_flux_model/LULUCF/outputs/BGC_density_MgC_ha/2000/40000_pixels/20240821/00N_060W__BGC_density_MgC_ha_2000.tif', 'deadwood_density_2000': 's3://gfw2-data/climate/AFOLU_flux_model/LULUCF/outputs/deadwood_C_density_MgC_ha/2000/40000_pixels/20240821/00N_060W__deadwood_C_density_MgC_ha_2000.tif', 'litter_density_2000': 's3://gfw2-data/climate/AFOLU_flux_model/LULUCF/outputs/litter_C_density_MgC_ha/2000/40000_pixels/20240821/00N_060W__litter_C_density_MgC_ha_2000.tif'}\n"
     ]
    }
   ],
   "source": [
    "stat_dict = {}\n",
    "stat_dict[\"agc_density_2000\"] = f\"{agc_density_2000_path}{tile_id}__{agc_density_2000_pattern}.tif\"\n",
    "stat_dict[\"bgc_density_2000\"] = f\"{bgc_density_2000_path}{tile_id}__{bgc_density_2000_pattern}.tif\"\n",
    "stat_dict[\"deadwood_density_2000\"] = f\"{deadwood_density_2000_path}{tile_id}__{deadwood_density_2000_pattern}.tif\"\n",
    "stat_dict[\"litter_density_2000\"] = f\"{litter_density_2000_path}{tile_id}__{litter_density_2000_pattern}.tif\"\n",
    "\n",
    "print(stat_dict)"
   ]
  },
  {
   "cell_type": "code",
   "execution_count": null,
   "id": "cdb73672-91f2-4458-b462-5ae0f1c807be",
   "metadata": {},
   "outputs": [],
   "source": []
  },
  {
   "cell_type": "markdown",
   "id": "c485d2e5-f8c3-44ec-ac49-d1c66383668a",
   "metadata": {},
   "source": [
    "<font size=\"4\">Download Zone Inputs Layers</font> "
   ]
  },
  {
   "cell_type": "code",
   "execution_count": 42,
   "id": "3f4b3057-e529-42c0-a304-4973517d286b",
   "metadata": {},
   "outputs": [
    {
     "name": "stdout",
     "output_type": "stream",
     "text": [
      "flm: Tile id 00N_060W exists for some inputs. Proceeding: 20240920_19_02_49 \n",
      "True\n",
      "flm: Requesting data in chunk -60_-10_-59_-9 in 00N_060W: 20240920_19_02_49\n",
      "{<Future at 0x7f13180d9d80 state=finished returned ndarray>: 'climate_domain', <Future at 0x7f1303f41ff0 state=finished returned ndarray>: 'continent_ecozone', <Future at 0x7f1303fb4a60 state=finished returned ndarray>: 'ipcc_class_2000'}\n"
     ]
    }
   ],
   "source": [
    "is_final = False\n",
    "logger = setup_logging()\n",
    "#bounds = get_10x10_tile_bounds(tile_id)\n",
    "bounds = (-60, -10, -59, -9)\n",
    "\n",
    "tile_exists = check_for_tile(zone_dict, is_final, logger)\n",
    "print(tile_exists)\n",
    "# if not tile_exists:\n",
    "#     return f\"Skipped chunk {bounds_str} because {tile_id} does not exist for any inputs: {timestr()}\"\n",
    "\n",
    "zone_futures = prepare_to_download_chunk(bounds, zone_dict, is_final, logger)\n",
    "print(zone_futures)"
   ]
  },
  {
   "cell_type": "code",
   "execution_count": 111,
   "id": "4d782d9d-298a-46bd-948d-2636e8ad5d25",
   "metadata": {},
   "outputs": [
    {
     "name": "stderr",
     "output_type": "stream",
     "text": [
      "/home/melrose94/anaconda3/envs/dask_notebook/lib/python3.10/site-packages/distributed/client.py:3162: UserWarning: Sending large graph of size 30.52 MiB.\n",
      "This may cause some slowdown.\n",
      "Consider scattering data ahead of time and using futures.\n",
      "  warnings.warn(\n",
      "/home/melrose94/anaconda3/envs/dask_notebook/lib/python3.10/site-packages/distributed/client.py:3162: UserWarning: Sending large graph of size 15.26 MiB.\n",
      "This may cause some slowdown.\n",
      "Consider scattering data ahead of time and using futures.\n",
      "  warnings.warn(\n"
     ]
    },
    {
     "name": "stdout",
     "output_type": "stream",
     "text": [
      "Data type in layer 'continent_ecozone': int16\n",
      "Dimensions in layer 'continent_ecozone': (4000, 4000)\n",
      "Data type in layer 'ipcc_class_2000': uint8\n",
      "Dimensions in layer 'ipcc_class_2000': (4000, 4000)\n",
      "Data type in layer 'climate_domain': int16\n",
      "Dimensions in layer 'climate_domain': (4000, 4000)\n",
      "Unique values in layer continent_ecozone: [2020]\n",
      "Unique values in layer ipcc_class_2000: [1 2 3 4 5 6]\n",
      "Unique values in layer climate_domain: [1]\n"
     ]
    },
    {
     "name": "stderr",
     "output_type": "stream",
     "text": [
      "/home/melrose94/anaconda3/envs/dask_notebook/lib/python3.10/site-packages/distributed/client.py:3162: UserWarning: Sending large graph of size 30.52 MiB.\n",
      "This may cause some slowdown.\n",
      "Consider scattering data ahead of time and using futures.\n",
      "  warnings.warn(\n"
     ]
    }
   ],
   "source": [
    "zone_layers = {}\n",
    "zone_layers_unique_values = {}\n",
    "\n",
    "# Waits for requests to come back with data from S3\n",
    "for zone_future in concurrent.futures.as_completed(zone_futures):\n",
    "    zone_layer = zone_futures[zone_future]\n",
    "    zone_layers[zone_layer] = zone_future.result()\n",
    "\n",
    "    # Get unique values for each layer and compute them\n",
    "    unique_values = dask.array.unique(zone_layers[zone_layer])\n",
    "    zone_layers_unique_values[zone_layer] = unique_values.compute()\n",
    "\n",
    "# Print data type and dimensions for each zone array\n",
    "for layer, array in zone_layers.items():\n",
    "    print(f\"Data type in layer '{layer}': {array.dtype}\")\n",
    "    print(f\"Dimensions in layer '{layer}': {array.shape}\")\n",
    "\n",
    "# Print unique values for each zone array\n",
    "for layer, unique_vals in zone_layers_unique_values.items():\n",
    "    print(f\"Unique values in layer {layer}: {unique_vals}\")"
   ]
  },
  {
   "cell_type": "markdown",
   "id": "a6ae0037-ac46-490a-89c8-221fa2609740",
   "metadata": {},
   "source": [
    "<font size=\"4\">Bit shifting to get unique zone id for all zone_layers inputs</font> "
   ]
  },
  {
   "cell_type": "code",
   "execution_count": 113,
   "id": "b091c6f7-1106-4d56-b265-921af90af0cf",
   "metadata": {},
   "outputs": [
    {
     "name": "stderr",
     "output_type": "stream",
     "text": [
      "/home/melrose94/anaconda3/envs/dask_notebook/lib/python3.10/site-packages/distributed/client.py:3162: UserWarning: Sending large graph of size 30.52 MiB.\n",
      "This may cause some slowdown.\n",
      "Consider scattering data ahead of time and using futures.\n",
      "  warnings.warn(\n",
      "/home/melrose94/anaconda3/envs/dask_notebook/lib/python3.10/site-packages/distributed/client.py:3162: UserWarning: Sending large graph of size 30.52 MiB.\n",
      "This may cause some slowdown.\n",
      "Consider scattering data ahead of time and using futures.\n",
      "  warnings.warn(\n",
      "/home/melrose94/anaconda3/envs/dask_notebook/lib/python3.10/site-packages/distributed/client.py:3162: UserWarning: Sending large graph of size 15.26 MiB.\n",
      "This may cause some slowdown.\n",
      "Consider scattering data ahead of time and using futures.\n",
      "  warnings.warn(\n",
      "/home/melrose94/anaconda3/envs/dask_notebook/lib/python3.10/site-packages/distributed/client.py:3162: UserWarning: Sending large graph of size 76.30 MiB.\n",
      "This may cause some slowdown.\n",
      "Consider scattering data ahead of time and using futures.\n",
      "  warnings.warn(\n"
     ]
    },
    {
     "name": "stdout",
     "output_type": "stream",
     "text": [
      "Unique values in combined result:\n",
      "[ 8137 12233 16329 20425 24521 28617]\n"
     ]
    }
   ],
   "source": [
    "import numpy as np\n",
    "import dask.array as da\n",
    "\n",
    "# Function to calculate the number of bits needed to represent the maximum value in the array\n",
    "def calculate_bits_needed(max_value):\n",
    "    return int(np.ceil(np.log2(max_value + 1)))\n",
    "\n",
    "# Convert numpy arrays to dask arrays if needed\n",
    "def ensure_dask_array(array, chunks=\"auto\"):\n",
    "    if isinstance(array, np.ndarray):\n",
    "        # Convert numpy array to dask array\n",
    "        return da.from_array(array, chunks=chunks)\n",
    "    return array  # Already a dask array\n",
    "\n",
    "# Ensure all layers have a consistent data type (int16) for bit-shifting\n",
    "def ensure_dtype(layer_array, dtype=np.int16):\n",
    "    if layer_array.dtype != dtype:\n",
    "        return layer_array.astype(dtype)\n",
    "    return layer_array\n",
    "\n",
    "# Prepare to dynamically combine layers using bit-shifting\n",
    "def combine_zone_layers(sorted_layers):\n",
    "    combined_array = None\n",
    "    total_shift = 0\n",
    "\n",
    "    # Loop through each layer\n",
    "    for layer_name, layer_array in sorted_layers:\n",
    "        # Convert to dask.array if it's a numpy array\n",
    "        layer_array = ensure_dask_array(layer_array)\n",
    "\n",
    "        # Convert layer to int16 if necessary for safe bit-shifting\n",
    "        layer_array = ensure_dtype(layer_array)\n",
    "\n",
    "        # Find the maximum value in the layer (using Dask's max function)\n",
    "        max_value = da.max(layer_array).compute()  # Compute to get the actual maximum value\n",
    "\n",
    "        # Determine the number of bits needed to represent this layer\n",
    "        bits_needed = calculate_bits_needed(max_value)\n",
    "\n",
    "        # Print unique values in the current layer before shifting\n",
    "        #print(f\"Unique values in layer '{layer_name}' before shifting: {np.unique(layer_array.compute())}\")\n",
    "\n",
    "        # Shift the layer by the cumulative number of bits (based on previous layers)\n",
    "        shifted_layer = layer_array << total_shift\n",
    "\n",
    "        # Print unique values in the current layer after shifting\n",
    "        #print(f\"Unique values in layer '{layer_name}' after shifting: {np.unique(shifted_layer.compute())}\")\n",
    "\n",
    "        # If this is the first layer, initialize the combined array\n",
    "        if combined_array is None:\n",
    "            combined_array = shifted_layer\n",
    "        else:\n",
    "            # Use bitwise OR to combine the shifted layer with the previous layers\n",
    "            combined_array = combined_array | shifted_layer\n",
    "\n",
    "        # Update the total bit shift for the next layer\n",
    "        total_shift += bits_needed\n",
    "\n",
    "    return combined_array\n",
    "\n",
    "# Sort zone_layers items by name or key to ensure consistent layer order\n",
    "zone_layers_sorted = sorted(zone_layers.items())\n",
    "\n",
    "# Combine the zone layers dynamically\n",
    "combined_zone_array = combine_zone_layers(zone_layers_sorted)\n",
    "\n",
    "# Compute the final result from the combined Dask array\n",
    "combined_zone_result = combined_zone_array.compute()\n",
    "\n",
    "# Print the unique values in the combined result\n",
    "unique_values_combined_zones = np.unique(combined_zone_result)\n",
    "print(\"Unique values in combined result:\")\n",
    "print(unique_values_combined_zones)"
   ]
  },
  {
   "cell_type": "code",
   "execution_count": null,
   "id": "8c555dea-cb62-4e02-a83d-6d5ff1fbb359",
   "metadata": {},
   "outputs": [],
   "source": []
  },
  {
   "cell_type": "code",
   "execution_count": null,
   "id": "338924db-03cd-44fd-951b-1dfadecac6c8",
   "metadata": {},
   "outputs": [],
   "source": []
  },
  {
   "cell_type": "code",
   "execution_count": null,
   "id": "a319f8e4-8e95-479a-947f-26f4d109898d",
   "metadata": {},
   "outputs": [],
   "source": []
  },
  {
   "cell_type": "code",
   "execution_count": null,
   "id": "c992579b-2f88-4a70-8f89-f461ab21b811",
   "metadata": {},
   "outputs": [],
   "source": []
  },
  {
   "cell_type": "code",
   "execution_count": null,
   "id": "f4b088c5-6487-4b1b-94d4-835bb89ed0e6",
   "metadata": {},
   "outputs": [],
   "source": []
  },
  {
   "cell_type": "code",
   "execution_count": null,
   "id": "4b5fc22d-4a14-4228-86c4-1de9b12c76d4",
   "metadata": {},
   "outputs": [],
   "source": []
  },
  {
   "cell_type": "markdown",
   "id": "c14c232b-687e-4495-9d60-8347a3472cfc",
   "metadata": {},
   "source": [
    "<font size=\"4\">Reverse bit shifting to get original layer values for combined zone inputs</font> "
   ]
  },
  {
   "cell_type": "code",
   "execution_count": 107,
   "id": "e5d600e3-2d42-45ef-805b-413282e65ba0",
   "metadata": {},
   "outputs": [
    {
     "name": "stdout",
     "output_type": "stream",
     "text": [
      "   bit_shifted_values\n",
      "0                8137\n",
      "1               12233\n",
      "2               16329\n",
      "3               20425\n",
      "4               24521\n",
      "5               28617\n",
      "Index(['bit_shifted_values'], dtype='object')\n"
     ]
    }
   ],
   "source": [
    "#TEST Example dask data frame with zonal stats values by bit-shifted zone\n",
    "import pandas as pd\n",
    "\n",
    "# Create a Pandas DataFrame\n",
    "zone_df = pd.DataFrame({'bit_shifted_values': unique_values_combined_zones})\n",
    "\n",
    "# Print the Dask DataFrame to verify\n",
    "print(zone_df)\n",
    "print(zone_df.columns)"
   ]
  },
  {
   "cell_type": "code",
   "execution_count": 108,
   "id": "db7c96e9-3d34-4a97-9a65-6c9694805080",
   "metadata": {},
   "outputs": [
    {
     "name": "stdout",
     "output_type": "stream",
     "text": [
      "   bit_shifted_values  ipcc_class_2000  continent_ecozone  climate_domain\n",
      "0                8137                1               2020               1\n",
      "1               12233                2               2020               1\n",
      "2               16329                3               2020               1\n",
      "3               20425                4               2020               1\n",
      "4               24521                5               2020               1\n",
      "5               28617                6               2020               1\n"
     ]
    },
    {
     "name": "stderr",
     "output_type": "stream",
     "text": [
      "/home/melrose94/anaconda3/envs/dask_notebook/lib/python3.10/site-packages/distributed/client.py:3162: UserWarning: Sending large graph of size 30.52 MiB.\n",
      "This may cause some slowdown.\n",
      "Consider scattering data ahead of time and using futures.\n",
      "  warnings.warn(\n",
      "/home/melrose94/anaconda3/envs/dask_notebook/lib/python3.10/site-packages/distributed/client.py:3162: UserWarning: Sending large graph of size 30.52 MiB.\n",
      "This may cause some slowdown.\n",
      "Consider scattering data ahead of time and using futures.\n",
      "  warnings.warn(\n",
      "/home/melrose94/anaconda3/envs/dask_notebook/lib/python3.10/site-packages/distributed/client.py:3162: UserWarning: Sending large graph of size 15.26 MiB.\n",
      "This may cause some slowdown.\n",
      "Consider scattering data ahead of time and using futures.\n",
      "  warnings.warn(\n"
     ]
    }
   ],
   "source": [
    "# Function to reverse the bit-shifting process\n",
    "def reverse_bit_shifting(df, column_name, sorted_layers):\n",
    "    \"\"\"\n",
    "    Reverse the bit-shifting operation and extract the original values for each layer.\n",
    "\n",
    "    Parameters:\n",
    "    - df: the Pandas DataFrame containing the combined bit-shifted values.\n",
    "    - column_name: the name of the column that contains the bit-shifted values.\n",
    "    - sorted_layers: a dictionary containing the original Dask arrays (for each layer) sorted alpahbaetically.\n",
    "\n",
    "    Returns:\n",
    "    - df: a Pandas DataFrame with new columns for each original layer.\n",
    "    \"\"\"\n",
    "    \n",
    "    # Calculate bits_needed_per_layer based on max values from Dask arrays in sorted_layers\n",
    "    bits_needed_per_layer = []\n",
    "    \n",
    "    for layer_name, layer_array in sorted_layers:\n",
    "        # Ensure the layer is a Dask array and calculate max value\n",
    "        layer_array = ensure_dask_array(layer_array)\n",
    "        max_value = da.max(layer_array).compute()  # Compute the maximum value\n",
    "        \n",
    "        # Determine the number of bits needed to represent this layer\n",
    "        bits_needed = calculate_bits_needed(max_value)\n",
    "        bits_needed_per_layer.append(bits_needed)\n",
    "\n",
    "    total_shift = sum(bits_needed_per_layer)  # Start with the total bits used\n",
    "\n",
    "    # Reverse bit-shifting: loop through each layer in reverse order\n",
    "    layers = [layer_name for layer_name, _ in sorted_layers]  # Get the sorted layer names\n",
    "    for i in range(len(layers)-1, -1, -1):\n",
    "        layer = layers[i]\n",
    "        bits_needed = bits_needed_per_layer[i]\n",
    "        total_shift -= bits_needed\n",
    "        # Create a mask for extracting the current layer\n",
    "        mask = (1 << bits_needed) - 1\n",
    "        # Shift right and apply the mask to extract the current layer's values\n",
    "        df[layer] = df[column_name].apply(lambda x: (x >> total_shift) & mask)\n",
    "\n",
    "    return df\n",
    "\n",
    "# Reverse the bit-shifting\n",
    "parse_zone_data = reverse_bit_shifting(zone_df, 'bit_shifted_values', zone_layers_sorted)\n",
    "\n",
    "# Print the Pandas DataFrame to verify the results\n",
    "print(parse_zone_data)"
   ]
  },
  {
   "cell_type": "code",
   "execution_count": null,
   "id": "04274265-7cb9-4b95-8852-17d3023370f2",
   "metadata": {},
   "outputs": [],
   "source": []
  },
  {
   "cell_type": "code",
   "execution_count": null,
   "id": "43f66fc8-da5f-4a64-9baa-1375f213084b",
   "metadata": {},
   "outputs": [],
   "source": [
    "######################################################################"
   ]
  },
  {
   "cell_type": "markdown",
   "id": "0d536db7-c9ee-4d0f-9aa3-ec662ebe7dc7",
   "metadata": {},
   "source": [
    "<font size=\"5\">Zone Inputs (Categorical)</font> "
   ]
  },
  {
   "cell_type": "code",
   "execution_count": null,
   "id": "42c4e768-f8c3-43d3-a920-7091736ffe25",
   "metadata": {},
   "outputs": [],
   "source": [
    "# # gadm boundary tiles\n",
    "# iso_gadm_uri = 's3://gfw-data-lake/gadm_administrative_boundaries/v3.6/raster/epsg-4326/10/40000/adm0/geotiff/'\n",
    "# iso_gadm_pattern = ''\n",
    "\n",
    "# climate_domain_path = \"s3://gfw2-data/climate/carbon_model/inputs_for_carbon_pools/processed/fao_ecozones_bor_tem_tro/20190418/\"\n",
    "# climate_domain_pattern = \"fao_ecozones_bor_tem_tro_processed\"\n",
    "\n",
    "# continent_ecozone_path = \"s3://gfw2-data/climate/carbon_model/fao_ecozones/ecozone_continent/20190116/processed/\"\n",
    "# continent_ecozone_pattern = \"fao_ecozones_continents_processed\"\n",
    "\n",
    "\n",
    "\n",
    "# # MODEL OUTPUT SHAPEFILES\n",
    "# # # IPCC reporting classes\n",
    "# # ipcc_class_2000 = 's3://gfw2-data/climate/AFOLU_flux_model/LULUCF/outputs/IPCC_basic_classes/2000/40000_pixels/20240205/raster_footprints_IPCC_basic_classes_2000__10x10.shp'\n",
    "# # ipcc_class_2005 = 's3://gfw2-data/climate/AFOLU_flux_model/LULUCF/outputs/IPCC_basic_classes/2005/40000_pixels/20240205/raster_footprints_IPCC_basic_classes_2005__10x10.shp'\n",
    "# # ipcc_class_2010 = 's3://gfw2-data/climate/AFOLU_flux_model/LULUCF/outputs/IPCC_basic_classes/2010/40000_pixels/20240205/raster_footprints_IPCC_basic_classes_2010__10x10.shp'\n",
    "# # ipcc_class_2015 = 's3://gfw2-data/climate/AFOLU_flux_model/LULUCF/outputs/IPCC_basic_classes/2015/40000_pixels/20240205/raster_footprints_IPCC_basic_classes_2015__10x10.shp'\n",
    "# # ipcc_class_2020 = 's3://gfw2-data/climate/AFOLU_flux_model/LULUCF/outputs/IPCC_basic_classes/2020/40000_pixels/20240205/raster_footprints_IPCC_basic_classes_2020__10x10.shp'\n",
    "\n",
    "# # # IPCC change classes\n",
    "# # ipcc_change_2005 = 's3://gfw2-data/climate/AFOLU_flux_model/LULUCF/outputs/IPCC_basic_change/2000_2005/40000_pixels/20240205/raster_footprints_IPCC_basic_change_2000_2005__10x105.shp'\n",
    "# # ipcc_change_2010 = 's3://gfw2-data/climate/AFOLU_flux_model/LULUCF/outputs/IPCC_basic_change/2005_2010/40000_pixels/20240205/raster_footprints_IPCC_basic_change_2005_2010__10x10.shp'\n",
    "# # ipcc_change_2015 = 's3://gfw2-data/climate/AFOLU_flux_model/LULUCF/outputs/IPCC_basic_change/2010_2015/40000_pixels/20240205/raster_footprints_IPCC_basic_change_2010_2015__10x10.shp'\n",
    "# # ipcc_change_2020 = 's3://gfw2-data/climate/AFOLU_flux_model/LULUCF/outputs/IPCC_basic_change/2015_2020/40000_pixels/20240205/raster_footprints_IPCC_basic_change_2015_2020__10x10.shp'\n",
    "\n",
    "# # 2000 carbon densities \n",
    "# AGC_density_2000 = 'gfw2-data/climate/AFOLU_flux_model/LULUCF/outputs/AGC_density_MgC_ha/2000/40000_pixels/20240729/raster_footprints_AGC_2000__global__10x10.shp'\n",
    "# BGC_density_2000 = 'gfw2-data/climate/AFOLU_flux_model/LULUCF/outputs/BGC_density_MgC_ha/2000/40000_pixels/20240729/raster_footprints_BGC_2000__global__10x10.shp'\n",
    "# deadwood_C_density_2000 = 'gfw2-data/climate/AFOLU_flux_model/LULUCF/outputs/deadwood_C_density_MgC_ha/2000/40000_pixels/20240729/raster_footprints_deadwood_C_2000__global__10x10.shp'\n",
    "# litter_C_density = 'gfw2-data/climate/AFOLU_flux_model/LULUCF/outputs/litter_C_density_MgC_ha/2000/40000_pixels/20240729/raster_footprints_litter_C_2000__global__10x10.shp'\n",
    "\n",
    "#TODO: Include land state nodes? --> no shapefiles"
   ]
  },
  {
   "cell_type": "code",
   "execution_count": null,
   "id": "4b5d8c79-c523-4067-aa17-30fdda751f95",
   "metadata": {},
   "outputs": [],
   "source": [
    "# #rasterize vector data\n",
    "# name path column\n",
    "\n",
    "# shapefile = gpd.read_file(path)\n",
    "# utm = shapefile.to_crs(\"EPSG:4326\")\n",
    "# geom = utm[['geometry', column]].values.tolist()"
   ]
  },
  {
   "cell_type": "code",
   "execution_count": null,
   "id": "04398b2a-4f46-4743-9f27-96547d18553d",
   "metadata": {},
   "outputs": [],
   "source": [
    "# # lazily \"computing\" tile sets\n",
    "# iso_gadm = get_tile_dataset(iso_gadm_uri, tile, \"iso\")\n",
    "# iso_gadm = iso_gadm.where(iso_gadm != 9999)"
   ]
  }
 ],
 "metadata": {
  "kernelspec": {
   "display_name": "Python 3 (ipykernel)",
   "language": "python",
   "name": "python3"
  },
  "language_info": {
   "codemirror_mode": {
    "name": "ipython",
    "version": 3
   },
   "file_extension": ".py",
   "mimetype": "text/x-python",
   "name": "python",
   "nbconvert_exporter": "python",
   "pygments_lexer": "ipython3",
   "version": "3.10.6"
  }
 },
 "nbformat": 4,
 "nbformat_minor": 5
}
