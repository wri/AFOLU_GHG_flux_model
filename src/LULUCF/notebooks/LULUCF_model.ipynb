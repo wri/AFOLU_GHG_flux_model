{
 "cells": [
  {
   "cell_type": "code",
   "execution_count": 1,
   "id": "30181827",
   "metadata": {},
   "outputs": [],
   "source": [
    "import os\n",
    "\n",
    "# dask/parallelization libraries\n",
    "import coiled\n",
    "import dask\n",
    "from dask.distributed import Client, LocalCluster\n",
    "from dask.distributed import print as dask_print\n",
    "import dask.config\n",
    "import distributed\n",
    "\n",
    "# scipy basics\n",
    "import numpy as np\n",
    "import rasterio\n",
    "import rasterio.features\n",
    "import rasterio.transform\n",
    "import rasterio.windows\n",
    "\n",
    "from numba import jit\n",
    "import concurrent.futures\n",
    "\n",
    "import boto3\n",
    "import time\n",
    "import math\n",
    "import ctypes\n",
    "import pandas as pd"
   ]
  },
  {
   "cell_type": "markdown",
   "id": "dfe44e76",
   "metadata": {},
   "source": [
    "<font size=\"6\">Making cloud and local clusters</font> "
   ]
  },
  {
   "cell_type": "code",
   "execution_count": null,
   "id": "2c4591aa",
   "metadata": {},
   "outputs": [],
   "source": [
    "# Full cluster\n",
    "coiled_cluster = coiled.Cluster(\n",
    "    n_workers=20,\n",
    "    use_best_zone=True, \n",
    "    compute_purchase_option=\"spot_with_fallback\",\n",
    "    idle_timeout=\"10 minutes\",\n",
    "    region=\"us-east-1\",\n",
    "    name=\"AFOLU_flux_model\", \n",
    "    account='jterry64', # Necessary to use the AWS environment that Justin set up in Coiled\n",
    "    worker_memory = \"32GiB\" \n",
    ")\n",
    "\n",
    "# Coiled cluster (cloud run)\n",
    "coiled_client = coiled_cluster.get_client()\n",
    "coiled_client"
   ]
  },
  {
   "cell_type": "code",
   "execution_count": 2,
   "id": "c20c6fda-132e-401a-a83f-97036cac559e",
   "metadata": {},
   "outputs": [
    {
     "data": {
      "application/vnd.jupyter.widget-view+json": {
       "model_id": "0f2a0e77d0d54afdbca181a2009aa5ba",
       "version_major": 2,
       "version_minor": 0
      },
      "text/plain": [
       "Output()"
      ]
     },
     "metadata": {},
     "output_type": "display_data"
    },
    {
     "data": {
      "text/html": [
       "<pre style=\"white-space:pre;overflow-x:auto;line-height:normal;font-family:Menlo,'DejaVu Sans Mono',consolas,'Courier New',monospace\">Package - bcrypt, bcrypt==4.1.0 has no install candidate for linux-64 on conda-forge\n",
       "</pre>\n"
      ],
      "text/plain": [
       "Package - bcrypt, bcrypt==4.1.0 has no install candidate for linux-64 on conda-forge\n"
      ]
     },
     "metadata": {},
     "output_type": "display_data"
    },
    {
     "data": {
      "text/html": [
       "<pre style=\"white-space:pre;overflow-x:auto;line-height:normal;font-family:Menlo,'DejaVu Sans Mono',consolas,'Courier New',monospace\"></pre>\n"
      ],
      "text/plain": []
     },
     "metadata": {},
     "output_type": "display_data"
    },
    {
     "data": {
      "text/html": [
       "<pre style=\"white-space:pre;overflow-x:auto;line-height:normal;font-family:Menlo,'DejaVu Sans Mono',consolas,'Courier New',monospace\">╭────────────────────────────────────────── <span style=\"color: #008000; text-decoration-color: #008000; font-weight: bold\">Package Info</span> ──────────────────────────────────────────╮\n",
       "│                                  ╷                                                               │\n",
       "│  <span style=\"font-weight: bold\"> Package                        </span>│<span style=\"font-weight: bold\"> Note                                                        </span>  │\n",
       "│ ╶────────────────────────────────┼─────────────────────────────────────────────────────────────╴ │\n",
       "│   et-xmlfile                     │ https://pypi.org/pypi                                         │\n",
       "│                                  ╵                                                               │\n",
       "╰──────────────────────────────────────────────────────────────────────────────────────────────────╯\n",
       "</pre>\n"
      ],
      "text/plain": [
       "╭────────────────────────────────────────── \u001b[1;32mPackage Info\u001b[0m ──────────────────────────────────────────╮\n",
       "│                                  ╷                                                               │\n",
       "│  \u001b[1m \u001b[0m\u001b[1mPackage                       \u001b[0m\u001b[1m \u001b[0m│\u001b[1m \u001b[0m\u001b[1mNote                                                       \u001b[0m\u001b[1m \u001b[0m  │\n",
       "│ ╶────────────────────────────────┼─────────────────────────────────────────────────────────────╴ │\n",
       "│   et-xmlfile                     │ https://pypi.org/pypi                                         │\n",
       "│                                  ╵                                                               │\n",
       "╰──────────────────────────────────────────────────────────────────────────────────────────────────╯\n"
      ]
     },
     "metadata": {},
     "output_type": "display_data"
    },
    {
     "data": {
      "text/html": [
       "<pre style=\"white-space:pre;overflow-x:auto;line-height:normal;font-family:Menlo,'DejaVu Sans Mono',consolas,'Courier New',monospace\">╭──────────────────────────────────── <span style=\"color: #800000; text-decoration-color: #800000; font-weight: bold\">Not Synced with Cluster</span> ─────────────────────────────────────╮\n",
       "│            ╷                                                                         ╷           │\n",
       "│  <span style=\"font-weight: bold\"> Package  </span>│<span style=\"font-weight: bold\"> Error                                                                   </span>│<span style=\"font-weight: bold\"> Risk    </span>  │\n",
       "│ ╶──────────┼─────────────────────────────────────────────────────────────────────────┼─────────╴ │\n",
       "│   bcrypt   │ bcrypt==4.1.0 has no install candidate for linux-64 on conda-forge      │ Warning   │\n",
       "│            ╵                                                                         ╵           │\n",
       "╰──────────────────────────────────────────────────────────────────────────────────────────────────╯\n",
       "</pre>\n"
      ],
      "text/plain": [
       "╭──────────────────────────────────── \u001b[1;31mNot Synced with Cluster\u001b[0m ─────────────────────────────────────╮\n",
       "│            ╷                                                                         ╷           │\n",
       "│  \u001b[1m \u001b[0m\u001b[1mPackage \u001b[0m\u001b[1m \u001b[0m│\u001b[1m \u001b[0m\u001b[1mError                                                                  \u001b[0m\u001b[1m \u001b[0m│\u001b[1m \u001b[0m\u001b[1mRisk   \u001b[0m\u001b[1m \u001b[0m  │\n",
       "│ ╶──────────┼─────────────────────────────────────────────────────────────────────────┼─────────╴ │\n",
       "│   bcrypt   │ bcrypt==4.1.0 has no install candidate for linux-64 on conda-forge      │ Warning   │\n",
       "│            ╵                                                                         ╵           │\n",
       "╰──────────────────────────────────────────────────────────────────────────────────────────────────╯\n"
      ]
     },
     "metadata": {},
     "output_type": "display_data"
    },
    {
     "data": {
      "application/vnd.jupyter.widget-view+json": {
       "model_id": "52f6a32ebdcf441c9c54d093a5441344",
       "version_major": 2,
       "version_minor": 0
      },
      "text/plain": [
       "Output()"
      ]
     },
     "metadata": {},
     "output_type": "display_data"
    },
    {
     "data": {
      "text/html": [
       "<pre style=\"white-space:pre;overflow-x:auto;line-height:normal;font-family:Menlo,'DejaVu Sans Mono',consolas,'Courier New',monospace\"></pre>\n"
      ],
      "text/plain": []
     },
     "metadata": {},
     "output_type": "display_data"
    },
    {
     "data": {
      "text/html": [
       "<div>\n",
       "    <div style=\"width: 24px; height: 24px; background-color: #e1e1e1; border: 3px solid #9D9D9D; border-radius: 5px; position: absolute;\"> </div>\n",
       "    <div style=\"margin-left: 48px;\">\n",
       "        <h3 style=\"margin-bottom: 0px;\">Client</h3>\n",
       "        <p style=\"color: #9D9D9D; margin-bottom: 0px;\">Client-f037d32c-bb04-11ee-902e-00155d04972d</p>\n",
       "        <table style=\"width: 100%; text-align: left;\">\n",
       "\n",
       "        <tr>\n",
       "        \n",
       "            <td style=\"text-align: left;\"><strong>Connection method:</strong> Cluster object</td>\n",
       "            <td style=\"text-align: left;\"><strong>Cluster type:</strong> coiled.Cluster</td>\n",
       "        \n",
       "        </tr>\n",
       "\n",
       "        \n",
       "            <tr>\n",
       "                <td style=\"text-align: left;\">\n",
       "                    <strong>Dashboard: </strong> <a href=\"https://cluster-rqyqq.dask.host/sB2PALMV8HuXtPI1/status\" target=\"_blank\">https://cluster-rqyqq.dask.host/sB2PALMV8HuXtPI1/status</a>\n",
       "                </td>\n",
       "                <td style=\"text-align: left;\"></td>\n",
       "            </tr>\n",
       "        \n",
       "\n",
       "        </table>\n",
       "\n",
       "        \n",
       "\n",
       "        \n",
       "            <details>\n",
       "            <summary style=\"margin-bottom: 20px;\"><h3 style=\"display: inline;\">Cluster Info</h3></summary>\n",
       "            <div class=\"jp-RenderedHTMLCommon jp-RenderedHTML jp-mod-trusted jp-OutputArea-output\">\n",
       "    <div style=\"width: 24px; height: 24px; background-color: #e1e1e1; border: 3px solid #9D9D9D; border-radius: 5px; position: absolute;\">\n",
       "    </div>\n",
       "    <div style=\"margin-left: 48px;\">\n",
       "        <h3 style=\"margin-bottom: 0px; margin-top: 0px;\">Cluster</h3>\n",
       "        <p style=\"color: #9D9D9D; margin-bottom: 0px;\">AFOLU_flux_model</p>\n",
       "        <table style=\"width: 100%; text-align: left;\">\n",
       "            <tr>\n",
       "                <td style=\"text-align: left;\">\n",
       "                    <strong>Dashboard:</strong> <a href=\"https://cluster-rqyqq.dask.host/sB2PALMV8HuXtPI1/status\" target=\"_blank\">https://cluster-rqyqq.dask.host/sB2PALMV8HuXtPI1/status</a>\n",
       "                </td>\n",
       "                <td style=\"text-align: left;\">\n",
       "                    <strong>Workers:</strong> 0\n",
       "                </td>\n",
       "            </tr>\n",
       "            <tr>\n",
       "                <td style=\"text-align: left;\">\n",
       "                    <strong>Total threads:</strong> 0\n",
       "                </td>\n",
       "                <td style=\"text-align: left;\">\n",
       "                    <strong>Total memory:</strong> 0 B\n",
       "                </td>\n",
       "            </tr>\n",
       "            \n",
       "        </table>\n",
       "\n",
       "        <details>\n",
       "            <summary style=\"margin-bottom: 20px;\">\n",
       "                <h3 style=\"display: inline;\">Scheduler Info</h3>\n",
       "            </summary>\n",
       "\n",
       "            <div style=\"\">\n",
       "    <div>\n",
       "        <div style=\"width: 24px; height: 24px; background-color: #FFF7E5; border: 3px solid #FF6132; border-radius: 5px; position: absolute;\"> </div>\n",
       "        <div style=\"margin-left: 48px;\">\n",
       "            <h3 style=\"margin-bottom: 0px;\">Scheduler</h3>\n",
       "            <p style=\"color: #9D9D9D; margin-bottom: 0px;\">Scheduler-ff941320-3b19-4888-8ac1-cd974ff1aba0</p>\n",
       "            <table style=\"width: 100%; text-align: left;\">\n",
       "                <tr>\n",
       "                    <td style=\"text-align: left;\">\n",
       "                        <strong>Comm:</strong> tls://10.0.35.1:8786\n",
       "                    </td>\n",
       "                    <td style=\"text-align: left;\">\n",
       "                        <strong>Workers:</strong> 0\n",
       "                    </td>\n",
       "                </tr>\n",
       "                <tr>\n",
       "                    <td style=\"text-align: left;\">\n",
       "                        <strong>Dashboard:</strong> <a href=\"http://10.0.35.1:8787/status\" target=\"_blank\">http://10.0.35.1:8787/status</a>\n",
       "                    </td>\n",
       "                    <td style=\"text-align: left;\">\n",
       "                        <strong>Total threads:</strong> 0\n",
       "                    </td>\n",
       "                </tr>\n",
       "                <tr>\n",
       "                    <td style=\"text-align: left;\">\n",
       "                        <strong>Started:</strong> Just now\n",
       "                    </td>\n",
       "                    <td style=\"text-align: left;\">\n",
       "                        <strong>Total memory:</strong> 0 B\n",
       "                    </td>\n",
       "                </tr>\n",
       "            </table>\n",
       "        </div>\n",
       "    </div>\n",
       "\n",
       "    <details style=\"margin-left: 48px;\">\n",
       "        <summary style=\"margin-bottom: 20px;\">\n",
       "            <h3 style=\"display: inline;\">Workers</h3>\n",
       "        </summary>\n",
       "\n",
       "        \n",
       "\n",
       "    </details>\n",
       "</div>\n",
       "\n",
       "        </details>\n",
       "    </div>\n",
       "</div>\n",
       "            </details>\n",
       "        \n",
       "\n",
       "    </div>\n",
       "</div>"
      ],
      "text/plain": [
       "<Client: 'tls://10.0.35.1:8786' processes=0 threads=0, memory=0 B>"
      ]
     },
     "execution_count": 2,
     "metadata": {},
     "output_type": "execute_result"
    }
   ],
   "source": [
    "# Test cluster\n",
    "coiled_cluster = coiled.Cluster(\n",
    "    n_workers=1,\n",
    "    use_best_zone=True, \n",
    "    compute_purchase_option=\"spot_with_fallback\",\n",
    "    idle_timeout=\"10 minutes\",\n",
    "    region=\"us-east-1\",\n",
    "    name=\"AFOLU_flux_model\", \n",
    "    account='jterry64', # Necessary to use the AWS environment that Justin set up in Coiled\n",
    "    worker_memory = \"64GiB\" \n",
    ")\n",
    "\n",
    "# Coiled cluster (cloud run)\n",
    "coiled_client = coiled_cluster.get_client()\n",
    "coiled_client"
   ]
  },
  {
   "cell_type": "code",
   "execution_count": null,
   "id": "d2d54a28",
   "metadata": {},
   "outputs": [],
   "source": [
    "# Local single-process cluster (local run). Will run .compute() on just one process, not a whole cluster.\n",
    "local_client = Client(processes=False)\n",
    "local_client"
   ]
  },
  {
   "cell_type": "code",
   "execution_count": null,
   "id": "b53da8ca-0c69-415f-a247-1dab6e7140f4",
   "metadata": {},
   "outputs": [],
   "source": [
    "local_client = Client()\n",
    "local_client"
   ]
  },
  {
   "cell_type": "code",
   "execution_count": null,
   "id": "c2e8387c-c700-4137-af80-cc75e689d8f2",
   "metadata": {},
   "outputs": [],
   "source": [
    "# Local cluster with multiple workers\n",
    "local_cluster = LocalCluster()  \n",
    "local_client = Client(local_cluster)\n",
    "local_client"
   ]
  },
  {
   "cell_type": "markdown",
   "id": "768fe323",
   "metadata": {},
   "source": [
    "<font size=\"6\">Shutting down cloud and local clusters</font> "
   ]
  },
  {
   "cell_type": "code",
   "execution_count": null,
   "id": "60bfbe36",
   "metadata": {},
   "outputs": [],
   "source": [
    "coiled_cluster.shutdown()"
   ]
  },
  {
   "cell_type": "code",
   "execution_count": null,
   "id": "0f376b72",
   "metadata": {},
   "outputs": [],
   "source": [
    "local_client.shutdown()"
   ]
  },
  {
   "cell_type": "markdown",
   "id": "4c44f117",
   "metadata": {},
   "source": [
    "<font size=\"6\">Analysis</font> "
   ]
  },
  {
   "cell_type": "markdown",
   "id": "2c5ce237",
   "metadata": {},
   "source": [
    "<font size=\"4\">Paths and functions</font>"
   ]
  },
  {
   "cell_type": "code",
   "execution_count": 3,
   "id": "6832ee03",
   "metadata": {},
   "outputs": [],
   "source": [
    "# General paths and constants\n",
    "\n",
    "general_uri = 's3://gfw2-data/landcover/composite/'\n",
    "\n",
    "s3_out_dir = 'climate/AFOLU_flux_model/LULUCF/outputs'\n",
    "\n",
    "IPCC_class_max_val = 6\n",
    "\n",
    "# IPCC codes\n",
    "forest = 1\n",
    "cropland = 2\n",
    "settlement = 3\n",
    "wetland = 4\n",
    "grassland = 5\n",
    "otherland = 6"
   ]
  },
  {
   "cell_type": "code",
   "execution_count": 4,
   "id": "2be8f958-8527-4a33-ac10-3a0243bdee9b",
   "metadata": {},
   "outputs": [],
   "source": [
    "def timestr():\n",
    "    return time.strftime(\"%Y%m%d_%H_%M_%S\")\n",
    "\n",
    "def boundstr(bounds):\n",
    "    bounds_str = \"_\".join([str(round(x)) for x in bounds])\n",
    "    return bounds_str\n",
    "\n",
    "def calc_chunk_length_pixels(bounds):\n",
    "    chunk_length_pixels = int((bounds[3]-bounds[1]) * (40000/10))\n",
    "    return chunk_length_pixels"
   ]
  },
  {
   "cell_type": "code",
   "execution_count": 5,
   "id": "23ee3796-717c-4b93-895d-2010d933a342",
   "metadata": {},
   "outputs": [],
   "source": [
    "# Returns list of all chunk boundaries within a bounding box for chunks of a given size\n",
    "def get_chunk_bounds(chunk_params):\n",
    "\n",
    "    min_x = chunk_params[0]\n",
    "    min_y = chunk_params[1]\n",
    "    max_x = chunk_params[2]\n",
    "    max_y = chunk_params[3]\n",
    "    chunk_size = chunk_params[4]\n",
    "    \n",
    "    x, y = (min_x, min_y)\n",
    "    chunks = []\n",
    "\n",
    "    # Polygon Size\n",
    "    while y < max_y:\n",
    "        while x < max_x:\n",
    "            bounds = [\n",
    "                x,\n",
    "                y,\n",
    "                x + chunk_size,\n",
    "                y + chunk_size,\n",
    "            ]\n",
    "            chunks.append(bounds)\n",
    "            x += chunk_size\n",
    "        x = min_x\n",
    "        y += chunk_size\n",
    "\n",
    "    return chunks\n",
    "\n",
    "# Returns the encompassing tile_id string in the form YYN/S_XXXE/W based on a coordinate\n",
    "def xy_to_tile_id(top_left_x, top_left_y):\n",
    "\n",
    "    lat_ceil = math.ceil(top_left_y/10.0) * 10\n",
    "    lng_floor = math.floor(top_left_x/10.0) * 10\n",
    "    \n",
    "    lng: str = f\"{str(lng_floor).zfill(3)}E\" if (lng_floor >= 0) else f\"{str(-lng_floor).zfill(3)}W\"\n",
    "    lat: str = f\"{str(lat_ceil).zfill(2)}N\" if (lat_ceil >= 0) else f\"{str(-lat_ceil).zfill(2)}S\"\n",
    "\n",
    "    return f\"{lat}_{lng}\""
   ]
  },
  {
   "cell_type": "code",
   "execution_count": 6,
   "id": "a42ecf7e",
   "metadata": {},
   "outputs": [],
   "source": [
    "# Lazily opens tile within provided bounds (i.e. one chunk) and returns as a numpy array\n",
    "# If it can't open the chunk (no data in it), it returns an array of all 0s\n",
    "def get_tile_dataset_rio(uri, bounds, chunk_length):\n",
    "\n",
    "    try:\n",
    "        with rasterio.open(uri) as ds:\n",
    "            window = rasterio.windows.from_bounds(*bounds, ds.transform)\n",
    "            data = ds.read(1, window=window)\n",
    "    except:\n",
    "        data = np.zeros((chunk_length, chunk_length))\n",
    "\n",
    "    if data.size==0:\n",
    "        # dask_print(\"No data in chunk\")\n",
    "        return np.zeros((chunk_length, chunk_length))\n",
    "    else:\n",
    "        # dask_print(\"Data in chunk\")\n",
    "        return data"
   ]
  },
  {
   "cell_type": "code",
   "execution_count": null,
   "id": "74856567-cecf-4e37-a40b-cbd5ea11feee",
   "metadata": {},
   "outputs": [],
   "source": [
    "# Prepares list of chunks to download.\n",
    "# Chunks are defined by a bounding box.\n",
    "def prepare_to_download_chunk(bounds, start_year, download_dict):\n",
    " \n",
    "    futures = {}\n",
    "\n",
    "    bounds_str = boundstr(bounds)\n",
    "    tile_id = xy_to_tile_id(bounds[0], bounds[3])\n",
    "    chunk_length_pixels = calc_chunk_length_pixels(bounds)\n",
    "\n",
    "    # Submit requests to S3 for input chunks but don't actually download them yet. This queueing of the requests before downloading them speeds up the downloading\n",
    "    # Approach is to download all the input chunks up front for every year to make downloading more efficient, even though it means storing more upfront\n",
    "    with concurrent.futures.ThreadPoolExecutor() as executor:\n",
    "        \n",
    "        dask_print(f\"Requesting data in chunk {bounds_str} in {tile_id}: {timestr()}\")\n",
    "\n",
    "        for key, value in download_dict.items():\n",
    "            futures[executor.submit(get_tile_dataset_rio, value, bounds, chunk_length_pixels)] = key\n",
    "\n",
    "    return futures"
   ]
  },
  {
   "cell_type": "code",
   "execution_count": 7,
   "id": "fb116818-8790-4f8f-8a3a-473a2c82e08d",
   "metadata": {},
   "outputs": [],
   "source": [
    "def save_and_upload(bounds, chunk_length_pixels, tile_id, bounds_str, year, output_dict):\n",
    "\n",
    "    transform = rasterio.transform.from_bounds(*bounds, width=chunk_length_pixels, height=chunk_length_pixels)\n",
    "\n",
    "    file_info = f'{tile_id}__{bounds_str}'\n",
    "\n",
    "    s3_client = boto3.client(\"s3\")\n",
    "\n",
    "    dask_print(f\"Saving {bounds_str} in {tile_id} for {year}: {timestr()}\")\n",
    "\n",
    "    # For every output file, saves from array to local raster, then to s3.\n",
    "    # Can't save directly to s3, unfortunately, so need to save locally first.\n",
    "    for key, value in output_dict.items():\n",
    "\n",
    "        file_name = f\"{file_info}__{key}__{timestr()}\"\n",
    "\n",
    "        with rasterio.open(f\"/tmp/{file_name}.tif\", 'w', driver='GTiff', width=chunk_length_pixels, height=chunk_length_pixels, count=1, dtype='uint8', crs='EPSG:4326', transform=transform, compress='lzw', blockxsize=400, blockysize=400) as dst:\n",
    "            dst.write(value[0].astype(rasterio.uint8), 1)\n",
    "\n",
    "        dask_print(f\"Uploading {bounds_str} in {tile_id} for {year}: {timestr()}\")\n",
    "\n",
    "        s3_client.upload_file(f\"/tmp/{file_name}.tif\", \"gfw2-data\", Key=f\"{s3_out_dir}/{value[2]}/{file_name}.tif\")\n",
    "\n",
    "        # Deletes the local raster. It won't be used again.\n",
    "        os.remove(f\"/tmp/{file_name}.tif\")"
   ]
  },
  {
   "cell_type": "markdown",
   "id": "5bf4b896",
   "metadata": {},
   "source": [
    "<font size=\"4\">Model steps</font>"
   ]
  },
  {
   "cell_type": "code",
   "execution_count": 9,
   "id": "f720e810-b37b-4b20-b8a5-e501b526e2ae",
   "metadata": {},
   "outputs": [],
   "source": [
    "# Function to reclassify GLCLU classes to basic IPCC reporting classes.\n",
    "# Operates on the array/chunk. \n",
    "# Classification comes from https://onewri-my.sharepoint.com/:p:/g/personal/david_gibbs_wri_org/EWwyxRfgdeVJi4ezwX7LrfcBjCoqAcjL2jRAZjb_8RU9LQ?e=YUsQiU\n",
    "def reclassify_to_IPCC(GLCLU_block):\n",
    "\n",
    "    # Outputs\n",
    "    IPCC_classes = np.zeros(GLCLU_block.shape)\n",
    "\n",
    "    IPCC_classes[np.where(GLCLU_block <= 1)] = otherland                                 \n",
    "    IPCC_classes[np.where((GLCLU_block >= 2) & (GLCLU_block <= 26))] = grassland          \n",
    "    IPCC_classes[np.where((GLCLU_block >= 27) & (GLCLU_block <= 48))] = forest         \n",
    "    IPCC_classes[np.where((GLCLU_block >= 100) & (GLCLU_block <= 101))] = wetland       \n",
    "    IPCC_classes[np.where((GLCLU_block >= 102) & (GLCLU_block <= 126))] = grassland       \n",
    "    IPCC_classes[np.where((GLCLU_block >= 127) & (GLCLU_block <= 148))] = forest       \n",
    "    IPCC_classes[np.where((GLCLU_block >= 200) & (GLCLU_block <= 204))] = wetland       \n",
    "    IPCC_classes[np.where((GLCLU_block >= 205) & (GLCLU_block <= 207))] = otherland       \n",
    "    IPCC_classes[np.where(GLCLU_block == 241)] = otherland                                \n",
    "    IPCC_classes[np.where(GLCLU_block == 244)] = cropland                                \n",
    "    IPCC_classes[np.where(GLCLU_block == 250)] = settlement                               \n",
    "    IPCC_classes[np.where(GLCLU_block == 254)] = otherland                              \n",
    "    \n",
    "    return IPCC_classes"
   ]
  },
  {
   "cell_type": "code",
   "execution_count": 10,
   "id": "0070fd86-a857-445e-92e5-e9ba3dc99caa",
   "metadata": {},
   "outputs": [],
   "source": [
    "# Function to map basic IPCC change classes.\n",
    "# Operates pixel by pixel, so uses numba (Python compiled to C++).\n",
    "@jit(nopython=True)\n",
    "def change_classes_IPCC(IPCC_previous_block, IPCC_current_block):\n",
    "\n",
    "    # Output array of 0s\n",
    "    IPCC_change_block = np.zeros(IPCC_previous_block.shape)\n",
    "\n",
    "    # Iterates through all pixels in the chunk\n",
    "    for row in range(IPCC_previous_block.shape[0]):\n",
    "        for col in range(IPCC_previous_block.shape[1]):\n",
    "\n",
    "            IPCC_previous = IPCC_previous_block[row, col]\n",
    "            IPCC_current = IPCC_current_block[row, col]\n",
    "\n",
    "            # Equation to calculate the IPCC change code\n",
    "            IPCC_change_block[row, col] = ((IPCC_previous - 1) * IPCC_class_max_val) + IPCC_current\n",
    "\n",
    "    return IPCC_change_block"
   ]
  },
  {
   "cell_type": "code",
   "execution_count": 11,
   "id": "8b7027b3-48f8-4f73-8da4-5065bfcc60f0",
   "metadata": {},
   "outputs": [],
   "source": [
    "# Downloads input chunks, reclassifies GLCLU classes into IPCC land use reporting classes for each year, and maps changes between classes for consecutive years.\n",
    "# Chunks are defined by a bounding box and a starting year for iteration\n",
    "def reclassify_and_map_change_chunk(bounds, start_year):\n",
    "\n",
    "    bounds_str = boundstr(bounds)    # String form of chunk bounds\n",
    "    tile_id = xy_to_tile_id(bounds[0], bounds[3])    # tile_id in YYN/S_XXXE/W\n",
    "    chunk_length_pixels = calc_chunk_length_pixels(bounds)   # Chunk length in pixels (as opposed to decimal degrees)\n",
    "\n",
    "    \n",
    "    ### Part 1: download tiles\n",
    "\n",
    "    # Dictionary of downloaded layers\n",
    "    layers = {}\n",
    "\n",
    "    download_dict = {\n",
    "        \n",
    "        # \"iso\": f\"s3://gfw2-data/gadm_administrative_boundaries/v3.6/raster/epsg-4326/10/40000/adm0/gdal-geotiff/{tile_id}.tif\",  # Originally from gfw-data-lake, so it's in 400x400 windows,\n",
    "\n",
    "        \"land_cover_2000\": f\"s3://gfw2-data/landcover/composite/2000/raw/{tile_id}.tif\",\n",
    "        \"land_cover_2005\": f\"s3://gfw2-data/landcover/composite/2005/raw/{tile_id}.tif\",\n",
    "        \"land_cover_2010\": f\"s3://gfw2-data/landcover/composite/2010/raw/{tile_id}.tif\",\n",
    "        \"land_cover_2015\": f\"s3://gfw2-data/landcover/composite/2015/raw/{tile_id}.tif\",\n",
    "        \"land_cover_2020\": f\"s3://gfw2-data/landcover/composite/2020/raw/{tile_id}.tif\"   \n",
    "    }\n",
    "    \n",
    "    futures = prepare_to_download_chunk(bounds, start_year, download_dict)\n",
    "    dask_print(f\"Waiting for requests for data in chunk {bounds_str} in {tile_id}: {timestr()}\")\n",
    "    # Waits for requests to come back with data from S3\n",
    "    \n",
    "    for future in concurrent.futures.as_completed(futures):\n",
    "        layer = futures[future]\n",
    "        layers[layer] = future.result()\n",
    "\n",
    "    \n",
    "    ### Part 2: reclassify GLCLU classes into IPCC reporting classes \n",
    "    IPCC_class_dict = {}\n",
    "\n",
    "    # Iterates through model years\n",
    "    for year in list(range(2000, 2021, 5)):\n",
    "        \n",
    "        dask_print(f\"Reclassifying {bounds_str} in {tile_id} for {year}: {timestr()}\")\n",
    "\n",
    "        # Reclassifies GLCLU to 6 IPCC classes \n",
    "        IPCC_classes = reclassify_to_IPCC(\n",
    "            layers[f\"land_cover_{year}\"]   \n",
    "        )\n",
    "\n",
    "        # Output files to upload to s3\n",
    "        IPCC_class_dict[f\"IPCC_classes_{year}\"] = [IPCC_classes, \"uint8\", \"IPCC_basic_classes\"]                 \n",
    "\n",
    "        # Clear memory of unneeded arrays\n",
    "        del IPCC_classes\n",
    "\n",
    "    save_and_upload(bounds, chunk_length_pixels, tile_id, bounds_str, year, IPCC_class_dict)\n",
    "\n",
    "    \n",
    "    ### Part 3\n",
    "    IPCC_change_dict = {}\n",
    "\n",
    "    # Iterates through model years in a way that change can be calculated\n",
    "    for year in list(range(2005, 2021, 5)):\n",
    "        \n",
    "        dask_print(f\"Getting IPCC class change in {bounds_str} in {tile_id} for {year}: {timestr()}\")\n",
    "\n",
    "        # Maps change between IPCC classes\n",
    "        IPCC_change = change_classes_IPCC(\n",
    "            IPCC_class_dict[f\"IPCC_classes_{year-5}\"][0], # first [0] needed because results_download is a tuple with a dictionary inside it. Second [0] to isolate the array.\n",
    "            IPCC_class_dict[f\"IPCC_classes_{year}\"][0]    # first [0] needed because results_download is a tuple with a dictionary inside it. Second [0] to isolate the array.\n",
    "        )\n",
    "\n",
    "        # Output files to upload to s3\n",
    "        IPCC_change_dict[f\"IPCC_change_{year-5}_{year}\"] = [IPCC_change, \"uint8\", \"IPCC_basic_change\"]  \n",
    "\n",
    "        # Clear memory of unneeded arrays\n",
    "        del IPCC_change\n",
    "\n",
    "    save_and_upload(bounds, chunk_length_pixels, tile_id, bounds_str, year, IPCC_change_dict)\n",
    "\n",
    "    return f\"success for {bounds_str}: {timestr()}\""
   ]
  },
  {
   "cell_type": "code",
   "execution_count": 12,
   "id": "157f4f04",
   "metadata": {},
   "outputs": [
    {
     "name": "stdout",
     "output_type": "stream",
     "text": [
      "Processing 1 chunks\n",
      "Making requests for data in chunk 10_40_20_50 in 50N_010E: 20240124_22_07_31\n",
      "Waiting for requests for data in chunk 10_40_20_50 in 50N_010E: 20240124_22_09_17\n",
      "Reclassifying 10_40_20_50 in 50N_010E for 2000: 20240124_22_09_17\n",
      "Reclassifying 10_40_20_50 in 50N_010E for 2005: 20240124_22_10_46\n",
      "Reclassifying 10_40_20_50 in 50N_010E for 2010: 20240124_22_12_15\n",
      "Reclassifying 10_40_20_50 in 50N_010E for 2015: 20240124_22_13_44\n",
      "Making requests for data in chunk 10_40_20_50 in 50N_010E: 20240124_22_14_10\n"
     ]
    },
    {
     "ename": "KeyboardInterrupt",
     "evalue": "",
     "output_type": "error",
     "traceback": [
      "\u001b[0;31m---------------------------------------------------------------------------\u001b[0m",
      "\u001b[0;31mKeyboardInterrupt\u001b[0m                         Traceback (most recent call last)",
      "File \u001b[0;32m<timed exec>:27\u001b[0m\n",
      "File \u001b[0;32m~/anaconda3/envs/dask_notebook/lib/python3.10/site-packages/dask/base.py:628\u001b[0m, in \u001b[0;36mcompute\u001b[0;34m(traverse, optimize_graph, scheduler, get, *args, **kwargs)\u001b[0m\n\u001b[1;32m    625\u001b[0m     postcomputes\u001b[38;5;241m.\u001b[39mappend(x\u001b[38;5;241m.\u001b[39m__dask_postcompute__())\n\u001b[1;32m    627\u001b[0m \u001b[38;5;28;01mwith\u001b[39;00m shorten_traceback():\n\u001b[0;32m--> 628\u001b[0m     results \u001b[38;5;241m=\u001b[39m \u001b[43mschedule\u001b[49m\u001b[43m(\u001b[49m\u001b[43mdsk\u001b[49m\u001b[43m,\u001b[49m\u001b[43m \u001b[49m\u001b[43mkeys\u001b[49m\u001b[43m,\u001b[49m\u001b[43m \u001b[49m\u001b[38;5;241;43m*\u001b[39;49m\u001b[38;5;241;43m*\u001b[39;49m\u001b[43mkwargs\u001b[49m\u001b[43m)\u001b[49m\n\u001b[1;32m    630\u001b[0m \u001b[38;5;28;01mreturn\u001b[39;00m repack([f(r, \u001b[38;5;241m*\u001b[39ma) \u001b[38;5;28;01mfor\u001b[39;00m r, (f, a) \u001b[38;5;129;01min\u001b[39;00m \u001b[38;5;28mzip\u001b[39m(results, postcomputes)])\n",
      "File \u001b[0;32m~/anaconda3/envs/dask_notebook/lib/python3.10/threading.py:607\u001b[0m, in \u001b[0;36mEvent.wait\u001b[0;34m(self, timeout)\u001b[0m\n\u001b[1;32m    605\u001b[0m signaled \u001b[38;5;241m=\u001b[39m \u001b[38;5;28mself\u001b[39m\u001b[38;5;241m.\u001b[39m_flag\n\u001b[1;32m    606\u001b[0m \u001b[38;5;28;01mif\u001b[39;00m \u001b[38;5;129;01mnot\u001b[39;00m signaled:\n\u001b[0;32m--> 607\u001b[0m     signaled \u001b[38;5;241m=\u001b[39m \u001b[38;5;28;43mself\u001b[39;49m\u001b[38;5;241;43m.\u001b[39;49m\u001b[43m_cond\u001b[49m\u001b[38;5;241;43m.\u001b[39;49m\u001b[43mwait\u001b[49m\u001b[43m(\u001b[49m\u001b[43mtimeout\u001b[49m\u001b[43m)\u001b[49m\n\u001b[1;32m    608\u001b[0m \u001b[38;5;28;01mreturn\u001b[39;00m signaled\n",
      "File \u001b[0;32m~/anaconda3/envs/dask_notebook/lib/python3.10/threading.py:324\u001b[0m, in \u001b[0;36mCondition.wait\u001b[0;34m(self, timeout)\u001b[0m\n\u001b[1;32m    322\u001b[0m \u001b[38;5;28;01melse\u001b[39;00m:\n\u001b[1;32m    323\u001b[0m     \u001b[38;5;28;01mif\u001b[39;00m timeout \u001b[38;5;241m>\u001b[39m \u001b[38;5;241m0\u001b[39m:\n\u001b[0;32m--> 324\u001b[0m         gotit \u001b[38;5;241m=\u001b[39m \u001b[43mwaiter\u001b[49m\u001b[38;5;241;43m.\u001b[39;49m\u001b[43macquire\u001b[49m\u001b[43m(\u001b[49m\u001b[38;5;28;43;01mTrue\u001b[39;49;00m\u001b[43m,\u001b[49m\u001b[43m \u001b[49m\u001b[43mtimeout\u001b[49m\u001b[43m)\u001b[49m\n\u001b[1;32m    325\u001b[0m     \u001b[38;5;28;01melse\u001b[39;00m:\n\u001b[1;32m    326\u001b[0m         gotit \u001b[38;5;241m=\u001b[39m waiter\u001b[38;5;241m.\u001b[39macquire(\u001b[38;5;28;01mFalse\u001b[39;00m)\n",
      "\u001b[0;31mKeyboardInterrupt\u001b[0m: "
     ]
    }
   ],
   "source": [
    "%%time\n",
    "\n",
    "# Year to start the analysis\n",
    "# start_year = 2000   # full run\n",
    "start_year = 2020  # final year\n",
    "\n",
    "# Area to analyze\n",
    "# chunk_params arguments: W, S, E, N, chunk size (degrees)\n",
    "# chunk_params = [-12, 34, 32, 72, 1]  # all of Europe\n",
    "# chunk_params = [-10, 40, 20, 70, 1]    # 30x30 deg (70N_010W), 900 chunks\n",
    "# chunk_params = [10, 40, 20, 50, 1]    # 10x10 deg (50N_010E), 100 chunks\n",
    "chunk_params = [10, 40, 20, 50, 10]    # 10x10 deg (50N_010E), 1 chunk\n",
    "# chunk_params = [10, 46, 14, 50, 2]   # 4x4 deg, 4 chunks\n",
    "# chunk_params = [10, 48, 12, 50, 1]   # 2x2 deg, 4 chunks\n",
    "# chunk_params = [10, 49, 11, 50, 1]   # 1x1 deg, 1 chunk\n",
    "# chunk_params = [10, 49, 11, 50, 0.5] # 1x1 deg, 4 chunks\n",
    "# chunk_params = [10, 49.5, 10.5, 50, 0.25] # 0.5x0.5 deg, 4 chunks\n",
    "# chunk_params = [10, 49.75, 10.25, 50, 0.25] # 0.25x0.25 deg, 1 chunk (has data)\n",
    "# chunk_params = [0, 79.75, 0.25, 80, 0.25] # 0.25x0.25 deg, 1 chunk (no data)\n",
    "\n",
    "# Makes list of chunks to analyze\n",
    "chunks = get_chunk_bounds(chunk_params)  \n",
    "print(\"Processing\", len(chunks), \"chunks\")\n",
    "\n",
    "# Creates list of tasks to run (1 task = 1 chunk for all years)\n",
    "delayed_result = [dask.delayed(reclassify_and_map_change_chunk)(chunk, start_year) for chunk in chunks]\n",
    "\n",
    "# Actually runs analysis\n",
    "results = dask.compute(*delayed_result)\n",
    "results"
   ]
  },
  {
   "cell_type": "code",
   "execution_count": null,
   "id": "2c322828-5e41-4706-a9df-09c9e5cafcbe",
   "metadata": {},
   "outputs": [],
   "source": []
  },
  {
   "cell_type": "code",
   "execution_count": null,
   "id": "90d12370-fe37-4d06-8a66-9210a4628988",
   "metadata": {},
   "outputs": [],
   "source": []
  },
  {
   "cell_type": "code",
   "execution_count": null,
   "id": "fd1114ac-9c2c-4cfb-9212-1d96f1aada06",
   "metadata": {},
   "outputs": [],
   "source": [
    "# To run without dask at all\n",
    "process_chunk([10, 49, 11, 50], 1, start_year)"
   ]
  },
  {
   "cell_type": "code",
   "execution_count": null,
   "id": "4aa5f88b-9a9d-45ce-ad03-235510e6798b",
   "metadata": {},
   "outputs": [],
   "source": [
    "# Download test-- checks that uri is found and recognized\n",
    "tile_id = \"50N_010E\"\n",
    "# uri = f\"s3://gfw2-data/climate/carbon_model/BGB_AGB_ratio/processed/20230216/{tile_id}_BGB_AGB_ratio.tif\"\n",
    "uri = f\"s3://gfw2-data/gadm_administrative_boundaries/v3.6/raster/epsg-4326/10/40000/adm0/gdal-geotiff/{tile_id}.tif\"  # Originally from gfw-data-lake, so it's in 400x400 windows\n",
    "# uri = f\"s3://gfw2-data/fao_ecozones/v2000/raster/epsg-4326/10/40000/class/gdal-geotiff/{tile_id}.tif\"   # Originally from gfw-data-lake, so it's in 400x400 windows \n",
    "bounds = [10, 49.75, 10.25, 50]\n",
    "\n",
    "get_tile_dataset_rio(uri, bounds, 1000)"
   ]
  },
  {
   "cell_type": "code",
   "execution_count": null,
   "id": "ab3c41e5-b135-4933-8bce-68d2acfcb72a",
   "metadata": {},
   "outputs": [],
   "source": [
    "coiled_client.restart() "
   ]
  },
  {
   "cell_type": "code",
   "execution_count": null,
   "id": "53347e4f-aaa0-440d-9080-dc95a31bb20e",
   "metadata": {},
   "outputs": [],
   "source": [
    "client.cancel(future) # per https://github.com/dask/distributed/issues/3898#issuecomment-645590511"
   ]
  },
  {
   "cell_type": "code",
   "execution_count": null,
   "id": "3b2de194-d396-4ab8-bd77-4641e4997a38",
   "metadata": {},
   "outputs": [],
   "source": [
    "# aws s3 cp s3://gfw2-data/climate/European_height_carbon_model/outputs/ . --recursive --exclude \"*\" --include \"*10_49_11_50*\"\n",
    "# aws s3 cp s3://gfw2-data/climate/European_height_carbon_model/outputs/ . --recursive --exclude \"*\" --include \"*2002*10_49_11_50*\""
   ]
  },
  {
   "cell_type": "code",
   "execution_count": null,
   "id": "63f5045c-a010-4762-88c3-a42a5d3edbb9",
   "metadata": {},
   "outputs": [],
   "source": []
  }
 ],
 "metadata": {
  "kernelspec": {
   "display_name": "Python 3 (ipykernel)",
   "language": "python",
   "name": "python3"
  },
  "language_info": {
   "codemirror_mode": {
    "name": "ipython",
    "version": 3
   },
   "file_extension": ".py",
   "mimetype": "text/x-python",
   "name": "python",
   "nbconvert_exporter": "python",
   "pygments_lexer": "ipython3",
   "version": "3.10.6"
  }
 },
 "nbformat": 4,
 "nbformat_minor": 5
}
